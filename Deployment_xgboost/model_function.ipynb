{
 "cells": [
  {
   "cell_type": "markdown",
   "metadata": {},
   "source": [
    "## Example of user_input"
   ]
  },
  {
   "cell_type": "code",
   "execution_count": 1,
   "metadata": {},
   "outputs": [],
   "source": [
    "user_input = {\n",
    "    \"borough\": \"Manhattan\",\n",
    "    \"bedrooms\": 2,\n",
    "    \"bathrooms\": 1,\n",
    "    \"size_sqft\": 1000,\n",
    "    \"min_to_subway\": 5,\n",
    "    \"building_age_yrs\": 30,    \n",
    "    \"floor\": 5,\n",
    "    \"no_fee\": 0,\n",
    "    \"has_roofdeck\": 0,\n",
    "    \"has_patio\": 0,\n",
    "    \"has_gym\": 0,\n",
    "    \"has_washer_dryer\": 1,\n",
    "    \"has_doorman\": 0,\n",
    "    \"has_elevator\": 1,\n",
    "    \"has_dishwasher\": 0\n",
    "}"
   ]
  },
  {
   "cell_type": "markdown",
   "metadata": {},
   "source": [
    "## import dependencies"
   ]
  },
  {
   "cell_type": "code",
   "execution_count": 2,
   "metadata": {},
   "outputs": [],
   "source": [
    "# Set the seed value for the notebook so the results are reproducible\n",
    "from numpy.random import seed\n",
    "seed(1)"
   ]
  },
  {
   "cell_type": "code",
   "execution_count": 3,
   "metadata": {},
   "outputs": [
    {
     "data": {
      "text/plain": [
       "'2.4.0'"
      ]
     },
     "execution_count": 3,
     "metadata": {},
     "output_type": "execute_result"
    }
   ],
   "source": [
    "import tensorflow\n",
    "tensorflow.keras.__version__"
   ]
  },
  {
   "cell_type": "code",
   "execution_count": 4,
   "metadata": {},
   "outputs": [],
   "source": [
    "import pandas as pd\n",
    "import numpy as np\n",
    "import matplotlib.pyplot as plt\n",
    "import pickle"
   ]
  },
  {
   "cell_type": "markdown",
   "metadata": {},
   "source": [
    "## Import Source Data"
   ]
  },
  {
   "cell_type": "code",
   "execution_count": 5,
   "metadata": {},
   "outputs": [
    {
     "data": {
      "text/plain": [
       "(5000, 20)"
      ]
     },
     "execution_count": 5,
     "metadata": {},
     "output_type": "execute_result"
    }
   ],
   "source": [
    "df=pd.read_csv('../input_data/streeteasy.csv')\n",
    "df.shape"
   ]
  },
  {
   "cell_type": "code",
   "execution_count": 6,
   "metadata": {},
   "outputs": [
    {
     "data": {
      "text/html": [
       "<div>\n",
       "<style scoped>\n",
       "    .dataframe tbody tr th:only-of-type {\n",
       "        vertical-align: middle;\n",
       "    }\n",
       "\n",
       "    .dataframe tbody tr th {\n",
       "        vertical-align: top;\n",
       "    }\n",
       "\n",
       "    .dataframe thead th {\n",
       "        text-align: right;\n",
       "    }\n",
       "</style>\n",
       "<table border=\"1\" class=\"dataframe\">\n",
       "  <thead>\n",
       "    <tr style=\"text-align: right;\">\n",
       "      <th></th>\n",
       "      <th>rental_id</th>\n",
       "      <th>building_id</th>\n",
       "      <th>rent</th>\n",
       "      <th>bedrooms</th>\n",
       "      <th>bathrooms</th>\n",
       "      <th>size_sqft</th>\n",
       "      <th>min_to_subway</th>\n",
       "      <th>floor</th>\n",
       "      <th>building_age_yrs</th>\n",
       "      <th>no_fee</th>\n",
       "      <th>has_roofdeck</th>\n",
       "      <th>has_washer_dryer</th>\n",
       "      <th>has_doorman</th>\n",
       "      <th>has_elevator</th>\n",
       "      <th>has_dishwasher</th>\n",
       "      <th>has_patio</th>\n",
       "      <th>has_gym</th>\n",
       "      <th>neighborhood</th>\n",
       "      <th>submarket</th>\n",
       "      <th>borough</th>\n",
       "    </tr>\n",
       "  </thead>\n",
       "  <tbody>\n",
       "    <tr>\n",
       "      <th>0</th>\n",
       "      <td>1545</td>\n",
       "      <td>44518357</td>\n",
       "      <td>2550</td>\n",
       "      <td>0.0</td>\n",
       "      <td>1</td>\n",
       "      <td>480</td>\n",
       "      <td>9</td>\n",
       "      <td>2.0</td>\n",
       "      <td>17</td>\n",
       "      <td>1</td>\n",
       "      <td>1</td>\n",
       "      <td>0</td>\n",
       "      <td>0</td>\n",
       "      <td>1</td>\n",
       "      <td>1</td>\n",
       "      <td>0</td>\n",
       "      <td>1</td>\n",
       "      <td>Upper East Side</td>\n",
       "      <td>All Upper East Side</td>\n",
       "      <td>Manhattan</td>\n",
       "    </tr>\n",
       "    <tr>\n",
       "      <th>1</th>\n",
       "      <td>2472</td>\n",
       "      <td>94441623</td>\n",
       "      <td>11500</td>\n",
       "      <td>2.0</td>\n",
       "      <td>2</td>\n",
       "      <td>2000</td>\n",
       "      <td>4</td>\n",
       "      <td>1.0</td>\n",
       "      <td>96</td>\n",
       "      <td>0</td>\n",
       "      <td>0</td>\n",
       "      <td>0</td>\n",
       "      <td>0</td>\n",
       "      <td>0</td>\n",
       "      <td>0</td>\n",
       "      <td>0</td>\n",
       "      <td>0</td>\n",
       "      <td>Greenwich Village</td>\n",
       "      <td>All Downtown</td>\n",
       "      <td>Manhattan</td>\n",
       "    </tr>\n",
       "    <tr>\n",
       "      <th>2</th>\n",
       "      <td>10234</td>\n",
       "      <td>87632265</td>\n",
       "      <td>3000</td>\n",
       "      <td>3.0</td>\n",
       "      <td>1</td>\n",
       "      <td>1000</td>\n",
       "      <td>4</td>\n",
       "      <td>1.0</td>\n",
       "      <td>106</td>\n",
       "      <td>0</td>\n",
       "      <td>0</td>\n",
       "      <td>0</td>\n",
       "      <td>0</td>\n",
       "      <td>0</td>\n",
       "      <td>0</td>\n",
       "      <td>0</td>\n",
       "      <td>0</td>\n",
       "      <td>Astoria</td>\n",
       "      <td>Northwest Queens</td>\n",
       "      <td>Queens</td>\n",
       "    </tr>\n",
       "  </tbody>\n",
       "</table>\n",
       "</div>"
      ],
      "text/plain": [
       "   rental_id  building_id   rent  bedrooms  bathrooms  size_sqft  \\\n",
       "0       1545     44518357   2550       0.0          1        480   \n",
       "1       2472     94441623  11500       2.0          2       2000   \n",
       "2      10234     87632265   3000       3.0          1       1000   \n",
       "\n",
       "   min_to_subway  floor  building_age_yrs  no_fee  has_roofdeck  \\\n",
       "0              9    2.0                17       1             1   \n",
       "1              4    1.0                96       0             0   \n",
       "2              4    1.0               106       0             0   \n",
       "\n",
       "   has_washer_dryer  has_doorman  has_elevator  has_dishwasher  has_patio  \\\n",
       "0                 0            0             1               1          0   \n",
       "1                 0            0             0               0          0   \n",
       "2                 0            0             0               0          0   \n",
       "\n",
       "   has_gym       neighborhood            submarket    borough  \n",
       "0        1    Upper East Side  All Upper East Side  Manhattan  \n",
       "1        0  Greenwich Village         All Downtown  Manhattan  \n",
       "2        0            Astoria     Northwest Queens     Queens  "
      ]
     },
     "execution_count": 6,
     "metadata": {},
     "output_type": "execute_result"
    }
   ],
   "source": [
    "df.head(3)"
   ]
  },
  {
   "cell_type": "markdown",
   "metadata": {},
   "source": [
    "## \"Dummify\" Source Data"
   ]
  },
  {
   "cell_type": "code",
   "execution_count": 8,
   "metadata": {},
   "outputs": [
    {
     "data": {
      "text/html": [
       "<div>\n",
       "<style scoped>\n",
       "    .dataframe tbody tr th:only-of-type {\n",
       "        vertical-align: middle;\n",
       "    }\n",
       "\n",
       "    .dataframe tbody tr th {\n",
       "        vertical-align: top;\n",
       "    }\n",
       "\n",
       "    .dataframe thead th {\n",
       "        text-align: right;\n",
       "    }\n",
       "</style>\n",
       "<table border=\"1\" class=\"dataframe\">\n",
       "  <thead>\n",
       "    <tr style=\"text-align: right;\">\n",
       "      <th></th>\n",
       "      <th>rental_id</th>\n",
       "      <th>building_id</th>\n",
       "      <th>rent</th>\n",
       "      <th>bedrooms</th>\n",
       "      <th>bathrooms</th>\n",
       "      <th>size_sqft</th>\n",
       "      <th>min_to_subway</th>\n",
       "      <th>floor</th>\n",
       "      <th>building_age_yrs</th>\n",
       "      <th>no_fee</th>\n",
       "      <th>...</th>\n",
       "      <th>submarket_Northeast Queens</th>\n",
       "      <th>submarket_Northwest Brooklyn</th>\n",
       "      <th>submarket_Northwest Queens</th>\n",
       "      <th>submarket_Prospect Park</th>\n",
       "      <th>submarket_South Brooklyn</th>\n",
       "      <th>submarket_South Queens</th>\n",
       "      <th>submarket_The Rockaways</th>\n",
       "      <th>borough_Brooklyn</th>\n",
       "      <th>borough_Manhattan</th>\n",
       "      <th>borough_Queens</th>\n",
       "    </tr>\n",
       "  </thead>\n",
       "  <tbody>\n",
       "    <tr>\n",
       "      <th>0</th>\n",
       "      <td>1545</td>\n",
       "      <td>44518357</td>\n",
       "      <td>2550</td>\n",
       "      <td>0.0</td>\n",
       "      <td>1</td>\n",
       "      <td>480</td>\n",
       "      <td>9</td>\n",
       "      <td>2.0</td>\n",
       "      <td>17</td>\n",
       "      <td>1</td>\n",
       "      <td>...</td>\n",
       "      <td>0</td>\n",
       "      <td>0</td>\n",
       "      <td>0</td>\n",
       "      <td>0</td>\n",
       "      <td>0</td>\n",
       "      <td>0</td>\n",
       "      <td>0</td>\n",
       "      <td>0</td>\n",
       "      <td>1</td>\n",
       "      <td>0</td>\n",
       "    </tr>\n",
       "    <tr>\n",
       "      <th>1</th>\n",
       "      <td>2472</td>\n",
       "      <td>94441623</td>\n",
       "      <td>11500</td>\n",
       "      <td>2.0</td>\n",
       "      <td>2</td>\n",
       "      <td>2000</td>\n",
       "      <td>4</td>\n",
       "      <td>1.0</td>\n",
       "      <td>96</td>\n",
       "      <td>0</td>\n",
       "      <td>...</td>\n",
       "      <td>0</td>\n",
       "      <td>0</td>\n",
       "      <td>0</td>\n",
       "      <td>0</td>\n",
       "      <td>0</td>\n",
       "      <td>0</td>\n",
       "      <td>0</td>\n",
       "      <td>0</td>\n",
       "      <td>1</td>\n",
       "      <td>0</td>\n",
       "    </tr>\n",
       "    <tr>\n",
       "      <th>2</th>\n",
       "      <td>10234</td>\n",
       "      <td>87632265</td>\n",
       "      <td>3000</td>\n",
       "      <td>3.0</td>\n",
       "      <td>1</td>\n",
       "      <td>1000</td>\n",
       "      <td>4</td>\n",
       "      <td>1.0</td>\n",
       "      <td>106</td>\n",
       "      <td>0</td>\n",
       "      <td>...</td>\n",
       "      <td>0</td>\n",
       "      <td>0</td>\n",
       "      <td>1</td>\n",
       "      <td>0</td>\n",
       "      <td>0</td>\n",
       "      <td>0</td>\n",
       "      <td>0</td>\n",
       "      <td>0</td>\n",
       "      <td>0</td>\n",
       "      <td>1</td>\n",
       "    </tr>\n",
       "  </tbody>\n",
       "</table>\n",
       "<p>3 rows × 128 columns</p>\n",
       "</div>"
      ],
      "text/plain": [
       "   rental_id  building_id   rent  bedrooms  bathrooms  size_sqft  \\\n",
       "0       1545     44518357   2550       0.0          1        480   \n",
       "1       2472     94441623  11500       2.0          2       2000   \n",
       "2      10234     87632265   3000       3.0          1       1000   \n",
       "\n",
       "   min_to_subway  floor  building_age_yrs  no_fee  ...  \\\n",
       "0              9    2.0                17       1  ...   \n",
       "1              4    1.0                96       0  ...   \n",
       "2              4    1.0               106       0  ...   \n",
       "\n",
       "   submarket_Northeast Queens  submarket_Northwest Brooklyn  \\\n",
       "0                           0                             0   \n",
       "1                           0                             0   \n",
       "2                           0                             0   \n",
       "\n",
       "   submarket_Northwest Queens  submarket_Prospect Park  \\\n",
       "0                           0                        0   \n",
       "1                           0                        0   \n",
       "2                           1                        0   \n",
       "\n",
       "   submarket_South Brooklyn  submarket_South Queens  submarket_The Rockaways  \\\n",
       "0                         0                       0                        0   \n",
       "1                         0                       0                        0   \n",
       "2                         0                       0                        0   \n",
       "\n",
       "   borough_Brooklyn  borough_Manhattan  borough_Queens  \n",
       "0                 0                  1               0  \n",
       "1                 0                  1               0  \n",
       "2                 0                  0               1  \n",
       "\n",
       "[3 rows x 128 columns]"
      ]
     },
     "execution_count": 8,
     "metadata": {},
     "output_type": "execute_result"
    }
   ],
   "source": [
    "# Use Pandas get_dummies to convert categorical data\n",
    "\n",
    "trimmed_df = df.drop(columns=[\"rental_id\",\"building_id\"])\n",
    "### BEGIN SOLUTION\n",
    "dummied_df = pd.get_dummies(df)\n",
    "dummied_df.head(3)\n",
    "### END SOLUTION"
   ]
  },
  {
   "cell_type": "markdown",
   "metadata": {},
   "source": [
    "## Dummify User Input"
   ]
  },
  {
   "cell_type": "code",
   "execution_count": 9,
   "metadata": {},
   "outputs": [
    {
     "data": {
      "text/plain": [
       "{'borough_Brooklyn': 0,\n",
       " 'borough_Manhattan': 1,\n",
       " 'borough_Queens': 0,\n",
       " 'bedrooms': 2,\n",
       " 'bathrooms': 1,\n",
       " 'size_sqft': 1000,\n",
       " 'min_to_subway': 5,\n",
       " 'building_age_yrs': 30,\n",
       " 'floor': 5,\n",
       " 'no_fee': 0,\n",
       " 'has_roofdeck': 0,\n",
       " 'has_patio': 0,\n",
       " 'has_gym': 0,\n",
       " 'has_washer_dryer': 1,\n",
       " 'has_doorman': 0,\n",
       " 'has_elevator': 1,\n",
       " 'has_dishwasher': 0}"
      ]
     },
     "execution_count": 9,
     "metadata": {},
     "output_type": "execute_result"
    }
   ],
   "source": [
    "new_input_dict = {}\n",
    "\n",
    "for feature in user_input:\n",
    "    if feature == \"borough\":\n",
    "        boroughs = sorted(list(df[\"borough\"].unique()))\n",
    "        for borough in boroughs:\n",
    "            if user_input[\"borough\"] == borough:\n",
    "                new_input_dict[f\"borough_{borough}\"] = 1\n",
    "            else:\n",
    "                new_input_dict[f\"borough_{borough}\"] = 0\n",
    "    elif feature == \"neighborhood\":\n",
    "        neighborhoods = sorted(list(df[\"neighborhood\"].unique()))\n",
    "        for neighborhood in neighborhoods:\n",
    "            if user_input[\"neighborhood\"] == neighborhood:\n",
    "                new_input_dict[f\"neighborhood_{neighborhood}\"] = 1\n",
    "            else:\n",
    "                new_input_dict[f\"neighborhood_{neighborhood}\"] = 0\n",
    "    elif feature == \"submarket\":\n",
    "        submarkets = sorted(list(df[\"submarket\"].unique()))\n",
    "        for submarket in submarkets:\n",
    "            if user_input[\"submarket\"] == submarket:\n",
    "                new_input_dict[f\"submarket_{submarket}\"] = 1\n",
    "            else:\n",
    "                new_input_dict[f\"submarket_{submarket}\"] = 0\n",
    "        \n",
    "    else:\n",
    "        new_input_dict[feature] = user_input[feature]\n",
    "\n",
    "new_input_dict    "
   ]
  },
  {
   "cell_type": "markdown",
   "metadata": {},
   "source": [
    "## Select Features"
   ]
  },
  {
   "cell_type": "code",
   "execution_count": 11,
   "metadata": {},
   "outputs": [
    {
     "data": {
      "text/html": [
       "<div>\n",
       "<style scoped>\n",
       "    .dataframe tbody tr th:only-of-type {\n",
       "        vertical-align: middle;\n",
       "    }\n",
       "\n",
       "    .dataframe tbody tr th {\n",
       "        vertical-align: top;\n",
       "    }\n",
       "\n",
       "    .dataframe thead th {\n",
       "        text-align: right;\n",
       "    }\n",
       "</style>\n",
       "<table border=\"1\" class=\"dataframe\">\n",
       "  <thead>\n",
       "    <tr style=\"text-align: right;\">\n",
       "      <th></th>\n",
       "      <th>borough_Brooklyn</th>\n",
       "      <th>borough_Manhattan</th>\n",
       "      <th>borough_Queens</th>\n",
       "      <th>bedrooms</th>\n",
       "      <th>bathrooms</th>\n",
       "      <th>size_sqft</th>\n",
       "      <th>min_to_subway</th>\n",
       "      <th>building_age_yrs</th>\n",
       "      <th>floor</th>\n",
       "      <th>no_fee</th>\n",
       "      <th>has_roofdeck</th>\n",
       "      <th>has_patio</th>\n",
       "      <th>has_gym</th>\n",
       "      <th>has_washer_dryer</th>\n",
       "      <th>has_doorman</th>\n",
       "      <th>has_elevator</th>\n",
       "      <th>has_dishwasher</th>\n",
       "    </tr>\n",
       "  </thead>\n",
       "  <tbody>\n",
       "    <tr>\n",
       "      <th>0</th>\n",
       "      <td>0</td>\n",
       "      <td>1</td>\n",
       "      <td>0</td>\n",
       "      <td>0.0</td>\n",
       "      <td>1</td>\n",
       "      <td>480</td>\n",
       "      <td>9</td>\n",
       "      <td>17</td>\n",
       "      <td>2.0</td>\n",
       "      <td>1</td>\n",
       "      <td>1</td>\n",
       "      <td>0</td>\n",
       "      <td>1</td>\n",
       "      <td>0</td>\n",
       "      <td>0</td>\n",
       "      <td>1</td>\n",
       "      <td>1</td>\n",
       "    </tr>\n",
       "    <tr>\n",
       "      <th>1</th>\n",
       "      <td>0</td>\n",
       "      <td>1</td>\n",
       "      <td>0</td>\n",
       "      <td>2.0</td>\n",
       "      <td>2</td>\n",
       "      <td>2000</td>\n",
       "      <td>4</td>\n",
       "      <td>96</td>\n",
       "      <td>1.0</td>\n",
       "      <td>0</td>\n",
       "      <td>0</td>\n",
       "      <td>0</td>\n",
       "      <td>0</td>\n",
       "      <td>0</td>\n",
       "      <td>0</td>\n",
       "      <td>0</td>\n",
       "      <td>0</td>\n",
       "    </tr>\n",
       "    <tr>\n",
       "      <th>2</th>\n",
       "      <td>0</td>\n",
       "      <td>0</td>\n",
       "      <td>1</td>\n",
       "      <td>3.0</td>\n",
       "      <td>1</td>\n",
       "      <td>1000</td>\n",
       "      <td>4</td>\n",
       "      <td>106</td>\n",
       "      <td>1.0</td>\n",
       "      <td>0</td>\n",
       "      <td>0</td>\n",
       "      <td>0</td>\n",
       "      <td>0</td>\n",
       "      <td>0</td>\n",
       "      <td>0</td>\n",
       "      <td>0</td>\n",
       "      <td>0</td>\n",
       "    </tr>\n",
       "  </tbody>\n",
       "</table>\n",
       "</div>"
      ],
      "text/plain": [
       "   borough_Brooklyn  borough_Manhattan  borough_Queens  bedrooms  bathrooms  \\\n",
       "0                 0                  1               0       0.0          1   \n",
       "1                 0                  1               0       2.0          2   \n",
       "2                 0                  0               1       3.0          1   \n",
       "\n",
       "   size_sqft  min_to_subway  building_age_yrs  floor  no_fee  has_roofdeck  \\\n",
       "0        480              9                17    2.0       1             1   \n",
       "1       2000              4                96    1.0       0             0   \n",
       "2       1000              4               106    1.0       0             0   \n",
       "\n",
       "   has_patio  has_gym  has_washer_dryer  has_doorman  has_elevator  \\\n",
       "0          0        1                 0            0             1   \n",
       "1          0        0                 0            0             0   \n",
       "2          0        0                 0            0             0   \n",
       "\n",
       "   has_dishwasher  \n",
       "0               1  \n",
       "1               0  \n",
       "2               0  "
      ]
     },
     "execution_count": 11,
     "metadata": {},
     "output_type": "execute_result"
    }
   ],
   "source": [
    "selected_features = list(new_input_dict.keys())\n",
    "selection_df = dummied_df[selected_features]\n",
    "selection_df.head(3)"
   ]
  },
  {
   "cell_type": "code",
   "execution_count": 12,
   "metadata": {},
   "outputs": [
    {
     "name": "stdout",
     "output_type": "stream",
     "text": [
      "(5000, 17) (5000, 1)\n"
     ]
    }
   ],
   "source": [
    "# Assign X (data) and y (target)\n",
    "\n",
    "### BEGIN SOLUTION\n",
    "X = selection_df\n",
    "y = df[\"rent\"].values.reshape(-1, 1)\n",
    "print(X.shape, y.shape)\n",
    "### END SOLUTION"
   ]
  },
  {
   "cell_type": "markdown",
   "metadata": {},
   "source": [
    "## Train/Test Split Data"
   ]
  },
  {
   "cell_type": "code",
   "execution_count": 13,
   "metadata": {},
   "outputs": [],
   "source": [
    "# Split the data into training and testing\n",
    "\n",
    "### BEGIN SOLUTION\n",
    "from sklearn.model_selection import train_test_split\n",
    "\n",
    "X_train, X_test, y_train, y_test = train_test_split(X, y, test_size=0.2, random_state=1)\n",
    "### END SOLUTION"
   ]
  },
  {
   "cell_type": "code",
   "execution_count": 14,
   "metadata": {},
   "outputs": [
    {
     "name": "stdout",
     "output_type": "stream",
     "text": [
      "(4000, 17)\n",
      "(1000, 17)\n",
      "(4000, 1)\n",
      "(1000, 1)\n"
     ]
    }
   ],
   "source": [
    "print(X_train.shape)\n",
    "print(X_test.shape)\n",
    "print(y_train.shape)\n",
    "print(y_test.shape)"
   ]
  },
  {
   "cell_type": "markdown",
   "metadata": {},
   "source": [
    "## Scale Data"
   ]
  },
  {
   "cell_type": "code",
   "execution_count": 13,
   "metadata": {},
   "outputs": [],
   "source": [
    "from sklearn.model_selection import train_test_split\n",
    "from sklearn.preprocessing import LabelEncoder, MinMaxScaler\n",
    "from tensorflow.keras.utils import to_categorical"
   ]
  },
  {
   "cell_type": "code",
   "execution_count": 14,
   "metadata": {},
   "outputs": [],
   "source": [
    "from sklearn.preprocessing import StandardScaler\n",
    "\n",
    "# Create a StandardScater model and fit it to the training data\n",
    "\n",
    "### BEGIN SOLUTION\n",
    "X_scaler = StandardScaler().fit(X_train)\n",
    "y_scaler = StandardScaler().fit(y_train)\n",
    "### END SOLUTION"
   ]
  },
  {
   "cell_type": "code",
   "execution_count": 15,
   "metadata": {},
   "outputs": [],
   "source": [
    "# Transform the training and testing data using the X_scaler and y_scaler models\n",
    "\n",
    "### BEGIN SOLUTION\n",
    "X_train_scaled = X_scaler.transform(X_train)\n",
    "X_test_scaled = X_scaler.transform(X_test)\n",
    "y_train_scaled = y_scaler.transform(y_train)\n",
    "y_test_scaled = y_scaler.transform(y_test)\n",
    "### END SOLUTION"
   ]
  },
  {
   "cell_type": "code",
   "execution_count": 16,
   "metadata": {},
   "outputs": [
    {
     "name": "stdout",
     "output_type": "stream",
     "text": [
      "(4000, 17)\n",
      "(1000, 17)\n",
      "(4000, 1)\n",
      "(1000, 1)\n"
     ]
    }
   ],
   "source": [
    "print(X_train_scaled.shape)\n",
    "print(X_test_scaled.shape)\n",
    "print(y_train_scaled.shape)\n",
    "print(y_test_scaled.shape)"
   ]
  },
  {
   "cell_type": "markdown",
   "metadata": {},
   "source": [
    "# Model Variables"
   ]
  },
  {
   "cell_type": "code",
   "execution_count": 17,
   "metadata": {},
   "outputs": [],
   "source": [
    "all_models = {\"models\":[],\n",
    "             \"mse\":[],\n",
    "             \"r2\":[]\n",
    "             }"
   ]
  },
  {
   "cell_type": "markdown",
   "metadata": {},
   "source": [
    "# LinearRegression "
   ]
  },
  {
   "cell_type": "code",
   "execution_count": 18,
   "metadata": {},
   "outputs": [],
   "source": [
    "# train_scaled\n",
    "from sklearn.linear_model import LinearRegression \n",
    "lm_model = LinearRegression()\n",
    "lm_model.fit(X_train_scaled, y_train_scaled)\n",
    "lm_predictions = lm_model.predict(X_train_scaled)"
   ]
  },
  {
   "cell_type": "code",
   "execution_count": 19,
   "metadata": {},
   "outputs": [
    {
     "name": "stdout",
     "output_type": "stream",
     "text": [
      "0.48021902868070415\n",
      "0.4843363415274868\n"
     ]
    }
   ],
   "source": [
    "#pred_train_scaled= model.predict(X_train_scaled)\n",
    "from sklearn.metrics import mean_squared_error\n",
    "print(np.sqrt(mean_squared_error(y_train_scaled,lm_predictions)))\n",
    "\n",
    "lm_pred= lm_model.predict(X_test_scaled)\n",
    "print(np.sqrt(mean_squared_error(y_test_scaled,lm_pred))) "
   ]
  },
  {
   "cell_type": "code",
   "execution_count": 20,
   "metadata": {},
   "outputs": [
    {
     "name": "stdout",
     "output_type": "stream",
     "text": [
      "MSE: 0.23061031550703898, R2: 0.7804376129722346\n"
     ]
    }
   ],
   "source": [
    "from sklearn.metrics import mean_squared_error\n",
    "\n",
    "MSE = mean_squared_error(y_train_scaled, lm_predictions)\n",
    "r2 = lm_model.score(X_test_scaled, y_test_scaled)\n",
    "\n",
    "print(f\"MSE: {MSE}, R2: {r2}\")"
   ]
  },
  {
   "cell_type": "code",
   "execution_count": 21,
   "metadata": {},
   "outputs": [],
   "source": [
    "all_models[\"models\"].append(lm_model)\n",
    "all_models[\"mse\"].append(MSE)\n",
    "all_models[\"r2\"].append(r2)"
   ]
  },
  {
   "cell_type": "markdown",
   "metadata": {},
   "source": [
    "# Lasso"
   ]
  },
  {
   "cell_type": "code",
   "execution_count": 22,
   "metadata": {},
   "outputs": [
    {
     "name": "stdout",
     "output_type": "stream",
     "text": [
      "MSE: 0.23624135377250588, R2: 0.7788842122856748\n"
     ]
    }
   ],
   "source": [
    "# LASSO model\n",
    "# Note: Use an alpha of .01 when creating the model for this activity\n",
    "from sklearn.linear_model import Lasso\n",
    "\n",
    "### BEGIN SOLUTION\n",
    "lasso = Lasso(alpha=.01).fit(X_train_scaled, y_train_scaled)\n",
    "\n",
    "lasso_predictions = lasso.predict(X_test_scaled)\n",
    "\n",
    "MSE = mean_squared_error(y_test_scaled, lasso_predictions)\n",
    "r2 = lasso.score(X_test_scaled, y_test_scaled)\n",
    "### END SOLUTION\n",
    "print(f\"MSE: {MSE}, R2: {r2}\")"
   ]
  },
  {
   "cell_type": "code",
   "execution_count": 23,
   "metadata": {},
   "outputs": [],
   "source": [
    "all_models[\"models\"].append(lasso)\n",
    "all_models[\"mse\"].append(MSE)\n",
    "all_models[\"r2\"].append(r2)"
   ]
  },
  {
   "cell_type": "markdown",
   "metadata": {},
   "source": [
    "# Ridge"
   ]
  },
  {
   "cell_type": "code",
   "execution_count": 24,
   "metadata": {},
   "outputs": [
    {
     "name": "stdout",
     "output_type": "stream",
     "text": [
      "MSE: 0.23465920726355552, R2: 0.7803650604353299\n"
     ]
    }
   ],
   "source": [
    "# Ridge model\n",
    "# Note: Use an alpha of .01 when creating the model for this activity\n",
    "from sklearn.linear_model import Ridge\n",
    "\n",
    "### BEGIN SOLUTION\n",
    "ridge = Ridge(alpha=.01).fit(X_train_scaled, y_train_scaled)\n",
    "\n",
    "ridge_predictions = ridge.predict(X_test_scaled)\n",
    "\n",
    "MSE = mean_squared_error(y_test_scaled, ridge_predictions)\n",
    "r2 = ridge.score(X_test_scaled, y_test_scaled)\n",
    "### END SOLUTION\n",
    "\n",
    "print(f\"MSE: {MSE}, R2: {r2}\")"
   ]
  },
  {
   "cell_type": "code",
   "execution_count": 25,
   "metadata": {},
   "outputs": [],
   "source": [
    "all_models[\"models\"].append(ridge)\n",
    "all_models[\"mse\"].append(MSE)\n",
    "all_models[\"r2\"].append(r2)"
   ]
  },
  {
   "cell_type": "markdown",
   "metadata": {},
   "source": [
    "# ElasticNet model"
   ]
  },
  {
   "cell_type": "code",
   "execution_count": 26,
   "metadata": {},
   "outputs": [
    {
     "name": "stdout",
     "output_type": "stream",
     "text": [
      "MSE: 0.23521413555947124, R2: 0.7798456619247942\n"
     ]
    }
   ],
   "source": [
    "# ElasticNet model\n",
    "# Note: Use an alpha of .01 when creating the model for this activity\n",
    "from sklearn.linear_model import ElasticNet\n",
    "\n",
    "### BEGIN SOLUTION\n",
    "elasticnet = ElasticNet(alpha=.01).fit(X_train_scaled, y_train_scaled)\n",
    "\n",
    "el_predictions = elasticnet.predict(X_test_scaled)\n",
    "\n",
    "MSE = mean_squared_error(y_test_scaled, el_predictions)\n",
    "r2 = elasticnet.score(X_test_scaled, y_test_scaled)\n",
    "### END SOLUTION\n",
    "\n",
    "print(f\"MSE: {MSE}, R2: {r2}\")"
   ]
  },
  {
   "cell_type": "code",
   "execution_count": 27,
   "metadata": {},
   "outputs": [],
   "source": [
    "all_models[\"models\"].append(elasticnet)\n",
    "all_models[\"mse\"].append(MSE)\n",
    "all_models[\"r2\"].append(r2)"
   ]
  },
  {
   "cell_type": "markdown",
   "metadata": {},
   "source": [
    "# XGBoost Regressor"
   ]
  },
  {
   "cell_type": "code",
   "execution_count": 28,
   "metadata": {},
   "outputs": [
    {
     "name": "stdout",
     "output_type": "stream",
     "text": [
      "MSE: 0.19080492190149234, R2: 0.8214115355660948\n"
     ]
    }
   ],
   "source": [
    "from xgboost import XGBRegressor\n",
    "XGBModel = XGBRegressor()\n",
    "XGBModel.fit(X_train_scaled, y_train_scaled , verbose=False)\n",
    "\n",
    "# Get the mean absolute error on the validation data :\n",
    "XGBpredictions = XGBModel.predict(X_test_scaled)\n",
    "\n",
    "MSE = mean_squared_error(y_test_scaled, XGBpredictions)\n",
    "r2 = XGBModel.score(X_test_scaled, y_test_scaled)\n",
    "### END SOLUTION\n",
    "\n",
    "print(f\"MSE: {MSE}, R2: {r2}\")"
   ]
  },
  {
   "cell_type": "code",
   "execution_count": 29,
   "metadata": {},
   "outputs": [],
   "source": [
    "all_models[\"models\"].append(XGBModel)\n",
    "all_models[\"mse\"].append(MSE)\n",
    "all_models[\"r2\"].append(r2)"
   ]
  },
  {
   "cell_type": "markdown",
   "metadata": {},
   "source": [
    "# Neural Network"
   ]
  },
  {
   "cell_type": "code",
   "execution_count": 30,
   "metadata": {},
   "outputs": [],
   "source": [
    "from tensorflow.keras.models import Sequential\n",
    "from tensorflow.keras.layers import Dense"
   ]
  },
  {
   "cell_type": "code",
   "execution_count": 31,
   "metadata": {},
   "outputs": [],
   "source": [
    "# Define model\n",
    "model = Sequential()\n",
    "model.add(Dense(500, input_dim=len(new_input_dict.values()), activation= \"relu\"))\n",
    "model.add(Dense(100, activation= \"relu\"))\n",
    "model.add(Dense(50, activation= \"relu\"))\n",
    "model.add(Dense(1))"
   ]
  },
  {
   "cell_type": "code",
   "execution_count": 32,
   "metadata": {},
   "outputs": [],
   "source": [
    "# Compile and fit the model\n",
    "model.compile(optimizer='adam', loss='mean_squared_error', metrics=['mean_squared_error'])   "
   ]
  },
  {
   "cell_type": "code",
   "execution_count": 33,
   "metadata": {},
   "outputs": [
    {
     "name": "stdout",
     "output_type": "stream",
     "text": [
      "Epoch 1/100\n",
      "125/125 - 0s - loss: 0.2590 - mean_squared_error: 0.2590\n",
      "Epoch 2/100\n",
      "125/125 - 0s - loss: 0.2003 - mean_squared_error: 0.2003\n",
      "Epoch 3/100\n",
      "125/125 - 0s - loss: 0.1907 - mean_squared_error: 0.1907\n",
      "Epoch 4/100\n",
      "125/125 - 0s - loss: 0.1822 - mean_squared_error: 0.1822\n",
      "Epoch 5/100\n",
      "125/125 - 0s - loss: 0.1659 - mean_squared_error: 0.1659\n",
      "Epoch 6/100\n",
      "125/125 - 0s - loss: 0.1640 - mean_squared_error: 0.1640\n",
      "Epoch 7/100\n",
      "125/125 - 0s - loss: 0.1574 - mean_squared_error: 0.1574\n",
      "Epoch 8/100\n",
      "125/125 - 0s - loss: 0.1611 - mean_squared_error: 0.1611\n",
      "Epoch 9/100\n",
      "125/125 - 0s - loss: 0.1483 - mean_squared_error: 0.1483\n",
      "Epoch 10/100\n",
      "125/125 - 0s - loss: 0.1421 - mean_squared_error: 0.1421\n",
      "Epoch 11/100\n",
      "125/125 - 0s - loss: 0.1429 - mean_squared_error: 0.1429\n",
      "Epoch 12/100\n",
      "125/125 - 0s - loss: 0.1387 - mean_squared_error: 0.1387\n",
      "Epoch 13/100\n",
      "125/125 - 0s - loss: 0.1354 - mean_squared_error: 0.1354\n",
      "Epoch 14/100\n",
      "125/125 - 0s - loss: 0.1254 - mean_squared_error: 0.1254\n",
      "Epoch 15/100\n",
      "125/125 - 0s - loss: 0.1268 - mean_squared_error: 0.1268\n",
      "Epoch 16/100\n",
      "125/125 - 0s - loss: 0.1255 - mean_squared_error: 0.1255\n",
      "Epoch 17/100\n",
      "125/125 - 0s - loss: 0.1192 - mean_squared_error: 0.1192\n",
      "Epoch 18/100\n",
      "125/125 - 0s - loss: 0.1208 - mean_squared_error: 0.1208\n",
      "Epoch 19/100\n",
      "125/125 - 0s - loss: 0.1220 - mean_squared_error: 0.1220\n",
      "Epoch 20/100\n",
      "125/125 - 0s - loss: 0.1173 - mean_squared_error: 0.1173\n",
      "Epoch 21/100\n",
      "125/125 - 0s - loss: 0.1143 - mean_squared_error: 0.1143\n",
      "Epoch 22/100\n",
      "125/125 - 0s - loss: 0.1146 - mean_squared_error: 0.1146\n",
      "Epoch 23/100\n",
      "125/125 - 0s - loss: 0.1053 - mean_squared_error: 0.1053\n",
      "Epoch 24/100\n",
      "125/125 - 0s - loss: 0.1076 - mean_squared_error: 0.1076\n",
      "Epoch 25/100\n",
      "125/125 - 0s - loss: 0.1023 - mean_squared_error: 0.1023\n",
      "Epoch 26/100\n",
      "125/125 - 0s - loss: 0.1038 - mean_squared_error: 0.1038\n",
      "Epoch 27/100\n",
      "125/125 - 0s - loss: 0.1007 - mean_squared_error: 0.1007\n",
      "Epoch 28/100\n",
      "125/125 - 0s - loss: 0.0962 - mean_squared_error: 0.0962\n",
      "Epoch 29/100\n",
      "125/125 - 0s - loss: 0.0961 - mean_squared_error: 0.0961\n",
      "Epoch 30/100\n",
      "125/125 - 0s - loss: 0.0927 - mean_squared_error: 0.0927\n",
      "Epoch 31/100\n",
      "125/125 - 0s - loss: 0.0929 - mean_squared_error: 0.0929\n",
      "Epoch 32/100\n",
      "125/125 - 0s - loss: 0.0923 - mean_squared_error: 0.0923\n",
      "Epoch 33/100\n",
      "125/125 - 0s - loss: 0.0917 - mean_squared_error: 0.0917\n",
      "Epoch 34/100\n",
      "125/125 - 0s - loss: 0.0853 - mean_squared_error: 0.0853\n",
      "Epoch 35/100\n",
      "125/125 - 0s - loss: 0.0826 - mean_squared_error: 0.0826\n",
      "Epoch 36/100\n",
      "125/125 - 0s - loss: 0.0806 - mean_squared_error: 0.0806\n",
      "Epoch 37/100\n",
      "125/125 - 0s - loss: 0.0813 - mean_squared_error: 0.0813\n",
      "Epoch 38/100\n",
      "125/125 - 0s - loss: 0.0817 - mean_squared_error: 0.0817\n",
      "Epoch 39/100\n",
      "125/125 - 0s - loss: 0.0849 - mean_squared_error: 0.0849\n",
      "Epoch 40/100\n",
      "125/125 - 0s - loss: 0.0818 - mean_squared_error: 0.0818\n",
      "Epoch 41/100\n",
      "125/125 - 0s - loss: 0.0757 - mean_squared_error: 0.0757\n",
      "Epoch 42/100\n",
      "125/125 - 0s - loss: 0.0728 - mean_squared_error: 0.0728\n",
      "Epoch 43/100\n",
      "125/125 - 0s - loss: 0.0762 - mean_squared_error: 0.0762\n",
      "Epoch 44/100\n",
      "125/125 - 0s - loss: 0.0736 - mean_squared_error: 0.0736\n",
      "Epoch 45/100\n",
      "125/125 - 0s - loss: 0.0761 - mean_squared_error: 0.0761\n",
      "Epoch 46/100\n",
      "125/125 - 0s - loss: 0.0717 - mean_squared_error: 0.0717\n",
      "Epoch 47/100\n",
      "125/125 - 0s - loss: 0.0712 - mean_squared_error: 0.0712\n",
      "Epoch 48/100\n",
      "125/125 - 0s - loss: 0.0680 - mean_squared_error: 0.0680\n",
      "Epoch 49/100\n",
      "125/125 - 0s - loss: 0.0706 - mean_squared_error: 0.0706\n",
      "Epoch 50/100\n",
      "125/125 - 0s - loss: 0.0674 - mean_squared_error: 0.0674\n",
      "Epoch 51/100\n",
      "125/125 - 0s - loss: 0.0659 - mean_squared_error: 0.0659\n",
      "Epoch 52/100\n",
      "125/125 - 0s - loss: 0.0662 - mean_squared_error: 0.0662\n",
      "Epoch 53/100\n",
      "125/125 - 0s - loss: 0.0658 - mean_squared_error: 0.0658\n",
      "Epoch 54/100\n",
      "125/125 - 0s - loss: 0.0650 - mean_squared_error: 0.0650\n",
      "Epoch 55/100\n",
      "125/125 - 0s - loss: 0.0623 - mean_squared_error: 0.0623\n",
      "Epoch 56/100\n",
      "125/125 - 0s - loss: 0.0614 - mean_squared_error: 0.0614\n",
      "Epoch 57/100\n",
      "125/125 - 0s - loss: 0.0621 - mean_squared_error: 0.0621\n",
      "Epoch 58/100\n",
      "125/125 - 0s - loss: 0.0580 - mean_squared_error: 0.0580\n",
      "Epoch 59/100\n",
      "125/125 - 0s - loss: 0.0591 - mean_squared_error: 0.0591\n",
      "Epoch 60/100\n",
      "125/125 - 0s - loss: 0.0558 - mean_squared_error: 0.0558\n",
      "Epoch 61/100\n",
      "125/125 - 0s - loss: 0.0581 - mean_squared_error: 0.0581\n",
      "Epoch 62/100\n",
      "125/125 - 0s - loss: 0.0592 - mean_squared_error: 0.0592\n",
      "Epoch 63/100\n",
      "125/125 - 0s - loss: 0.0722 - mean_squared_error: 0.0722\n",
      "Epoch 64/100\n",
      "125/125 - 0s - loss: 0.0673 - mean_squared_error: 0.0673\n",
      "Epoch 65/100\n",
      "125/125 - 0s - loss: 0.0616 - mean_squared_error: 0.0616\n",
      "Epoch 66/100\n",
      "125/125 - 0s - loss: 0.0588 - mean_squared_error: 0.0588\n",
      "Epoch 67/100\n",
      "125/125 - 0s - loss: 0.0590 - mean_squared_error: 0.0590\n",
      "Epoch 68/100\n",
      "125/125 - 0s - loss: 0.0597 - mean_squared_error: 0.0597\n",
      "Epoch 69/100\n",
      "125/125 - 0s - loss: 0.0596 - mean_squared_error: 0.0596\n",
      "Epoch 70/100\n",
      "125/125 - 0s - loss: 0.0524 - mean_squared_error: 0.0524\n",
      "Epoch 71/100\n",
      "125/125 - 0s - loss: 0.0505 - mean_squared_error: 0.0505\n",
      "Epoch 72/100\n",
      "125/125 - 0s - loss: 0.0517 - mean_squared_error: 0.0517\n",
      "Epoch 73/100\n",
      "125/125 - 0s - loss: 0.0509 - mean_squared_error: 0.0509\n",
      "Epoch 74/100\n",
      "125/125 - 0s - loss: 0.0518 - mean_squared_error: 0.0518\n",
      "Epoch 75/100\n",
      "125/125 - 0s - loss: 0.0499 - mean_squared_error: 0.0499\n",
      "Epoch 76/100\n",
      "125/125 - 0s - loss: 0.0512 - mean_squared_error: 0.0512\n",
      "Epoch 77/100\n",
      "125/125 - 0s - loss: 0.0508 - mean_squared_error: 0.0508\n",
      "Epoch 78/100\n",
      "125/125 - 0s - loss: 0.0508 - mean_squared_error: 0.0508\n",
      "Epoch 79/100\n",
      "125/125 - 0s - loss: 0.0503 - mean_squared_error: 0.0503\n",
      "Epoch 80/100\n",
      "125/125 - 0s - loss: 0.0518 - mean_squared_error: 0.0518\n",
      "Epoch 81/100\n",
      "125/125 - 0s - loss: 0.0520 - mean_squared_error: 0.0520\n",
      "Epoch 82/100\n",
      "125/125 - 0s - loss: 0.0490 - mean_squared_error: 0.0490\n",
      "Epoch 83/100\n",
      "125/125 - 0s - loss: 0.0494 - mean_squared_error: 0.0494\n",
      "Epoch 84/100\n",
      "125/125 - 0s - loss: 0.0459 - mean_squared_error: 0.0459\n",
      "Epoch 85/100\n",
      "125/125 - 0s - loss: 0.0464 - mean_squared_error: 0.0464\n",
      "Epoch 86/100\n",
      "125/125 - 0s - loss: 0.0496 - mean_squared_error: 0.0496\n",
      "Epoch 87/100\n",
      "125/125 - 0s - loss: 0.0466 - mean_squared_error: 0.0466\n",
      "Epoch 88/100\n",
      "125/125 - 0s - loss: 0.0455 - mean_squared_error: 0.0455\n",
      "Epoch 89/100\n",
      "125/125 - 0s - loss: 0.0443 - mean_squared_error: 0.0443\n",
      "Epoch 90/100\n",
      "125/125 - 0s - loss: 0.0443 - mean_squared_error: 0.0443\n",
      "Epoch 91/100\n",
      "125/125 - 0s - loss: 0.0457 - mean_squared_error: 0.0457\n",
      "Epoch 92/100\n",
      "125/125 - 0s - loss: 0.0484 - mean_squared_error: 0.0484\n",
      "Epoch 93/100\n",
      "125/125 - 0s - loss: 0.0442 - mean_squared_error: 0.0442\n",
      "Epoch 94/100\n",
      "125/125 - 0s - loss: 0.0432 - mean_squared_error: 0.0432\n",
      "Epoch 95/100\n",
      "125/125 - 0s - loss: 0.0438 - mean_squared_error: 0.0438\n",
      "Epoch 96/100\n",
      "125/125 - 0s - loss: 0.0440 - mean_squared_error: 0.0440\n",
      "Epoch 97/100\n",
      "125/125 - 0s - loss: 0.0400 - mean_squared_error: 0.0400\n",
      "Epoch 98/100\n",
      "125/125 - 0s - loss: 0.0404 - mean_squared_error: 0.0404\n",
      "Epoch 99/100\n",
      "125/125 - 0s - loss: 0.0420 - mean_squared_error: 0.0420\n",
      "Epoch 100/100\n",
      "125/125 - 0s - loss: 0.0415 - mean_squared_error: 0.0415\n"
     ]
    },
    {
     "data": {
      "text/plain": [
       "<tensorflow.python.keras.callbacks.History at 0x257bb490220>"
      ]
     },
     "execution_count": 33,
     "metadata": {},
     "output_type": "execute_result"
    }
   ],
   "source": [
    "# Fit the model to the training data\n",
    "model.fit(\n",
    "    X_train_scaled,\n",
    "    y_train_scaled,\n",
    "    epochs=100,\n",
    "    shuffle=True,\n",
    "    verbose=2\n",
    ")"
   ]
  },
  {
   "cell_type": "code",
   "execution_count": 34,
   "metadata": {},
   "outputs": [
    {
     "name": "stdout",
     "output_type": "stream",
     "text": [
      "0.21091259093753198\n",
      "0.4804766653616795\n"
     ]
    }
   ],
   "source": [
    "pred_train_scaled= model.predict(X_train_scaled)\n",
    "MSE = np.sqrt(mean_squared_error(y_train_scaled,pred_train_scaled))\n",
    "print(MSE)\n",
    "\n",
    "pred = model.predict(X_test_scaled)\n",
    "r2 = np.sqrt(mean_squared_error(y_test_scaled, pred))\n",
    "print(r2) "
   ]
  },
  {
   "cell_type": "code",
   "execution_count": 35,
   "metadata": {},
   "outputs": [],
   "source": [
    "all_models[\"models\"].append(model)\n",
    "all_models[\"mse\"].append(MSE)\n",
    "all_models[\"r2\"].append(r2)"
   ]
  },
  {
   "cell_type": "code",
   "execution_count": 36,
   "metadata": {},
   "outputs": [
    {
     "data": {
      "text/plain": [
       "{'models': [LinearRegression(),\n",
       "  Lasso(alpha=0.01),\n",
       "  Ridge(alpha=0.01),\n",
       "  ElasticNet(alpha=0.01),\n",
       "  XGBRegressor(base_score=0.5, booster='gbtree', colsample_bylevel=1,\n",
       "               colsample_bynode=1, colsample_bytree=1, gamma=0, gpu_id=-1,\n",
       "               importance_type='gain', interaction_constraints='',\n",
       "               learning_rate=0.300000012, max_delta_step=0, max_depth=6,\n",
       "               min_child_weight=1, missing=nan, monotone_constraints='()',\n",
       "               n_estimators=100, n_jobs=8, num_parallel_tree=1, random_state=0,\n",
       "               reg_alpha=0, reg_lambda=1, scale_pos_weight=1, subsample=1,\n",
       "               tree_method='exact', validate_parameters=1, verbosity=None),\n",
       "  <tensorflow.python.keras.engine.sequential.Sequential at 0x257bb319070>],\n",
       " 'mse': [0.23061031550703898,\n",
       "  0.23624135377250588,\n",
       "  0.23465920726355552,\n",
       "  0.23521413555947124,\n",
       "  0.19080492190149234,\n",
       "  0.21091259093753198],\n",
       " 'r2': [0.7804376129722346,\n",
       "  0.7788842122856748,\n",
       "  0.7803650604353299,\n",
       "  0.7798456619247942,\n",
       "  0.8214115355660948,\n",
       "  0.4804766653616795]}"
      ]
     },
     "execution_count": 36,
     "metadata": {},
     "output_type": "execute_result"
    }
   ],
   "source": [
    "all_models"
   ]
  },
  {
   "cell_type": "markdown",
   "metadata": {},
   "source": [
    "## Scale User Input Data"
   ]
  },
  {
   "cell_type": "code",
   "execution_count": 38,
   "metadata": {},
   "outputs": [
    {
     "data": {
      "text/plain": [
       "array([[-0.50156202,  0.64143012, -0.31544448,  0.65852899, -0.56368355,\n",
       "         0.19680243, -0.01438414, -0.54614348, -0.4898286 , -0.86589911,\n",
       "        -0.39081678, -0.21197188, -0.41305871,  2.53399887, -0.54884987,\n",
       "         1.76740243, -0.432777  ]])"
      ]
     },
     "execution_count": 38,
     "metadata": {},
     "output_type": "execute_result"
    }
   ],
   "source": [
    "input_values = list(new_input_dict.values())\n",
    "input_values_scaled = X_scaler.transform(pd.DataFrame(new_input_dict, index=[0]))\n",
    "input_values_scaled"
   ]
  },
  {
   "cell_type": "markdown",
   "metadata": {},
   "source": [
    "## Get Predictions"
   ]
  },
  {
   "cell_type": "code",
   "execution_count": null,
   "metadata": {},
   "outputs": [],
   "source": [
    "lm_pred_array = y_scaler.inverse_transform([lm_model.predict(input_values_scaled),])\n",
    "lm_pred = lm_pred_array[0][0][0]\n",
    "\n",
    "lasso_pred_array = y_scaler.inverse_transform([lasso.predict(input_values_scaled),])\n",
    "lasso_pred = lasso_pred_array[0][0]\n",
    "\n",
    "ridge_pred_array = y_scaler.inverse_transform([ridge.predict(input_values_scaled),])\n",
    "ridge_pred = ridge_pred_array[0][0][0]\n",
    "\n",
    "elas_pred_array = y_scaler.inverse_transform([elasticnet.predict(input_values_scaled),])\n",
    "elasticnet_pred = elas_pred_array[0][0]\n",
    "\n",
    "XGB_pred_array = y_scaler.inverse_transform([XGBModel.predict(input_values_scaled),])\n",
    "XGB_pred = XGB_pred_array[0][0]\n",
    "\n",
    "nn_pred_array = y_scaler.inverse_transform([model.predict(input_values_scaled),])\n",
    "nn_pred = nn_pred_array[0][0][0]"
   ]
  },
  {
   "cell_type": "markdown",
   "metadata": {},
   "source": [
    "## Package Results"
   ]
  },
  {
   "cell_type": "code",
   "execution_count": null,
   "metadata": {},
   "outputs": [],
   "source": [
    "results = {\n",
    "    \"lm\": {\"model\":\"Linear Regression\",\n",
    "          \"r2\": all_models[\"r2\"][0],\n",
    "          \"prediction\": lm_pred},\n",
    "    \"lasso\": {\"model\":\"Linear Regression\",\n",
    "          \"r2\": all_models[\"r2\"][1],\n",
    "          \"prediction\": lasso_pred},\n",
    "    \"ridge\": {\"model\":\"Ridge\",\n",
    "          \"r2\": all_models[\"r2\"][2],\n",
    "          \"prediction\": ridge_pred},\n",
    "    \"elas\": {\"model\":\"ElasticNet\",\n",
    "          \"r2\": all_models[\"r2\"][3],\n",
    "          \"prediction\": elasticnet_pred},\n",
    "    \"xgb\": {\"model\":\"XGBoost Regressor\",\n",
    "          \"r2\": all_models[\"r2\"][4],\n",
    "          \"prediction\": XGB_pred},\n",
    "    \"nn\": {\"model\":\"Neural Network\",\n",
    "          \"r2\": all_models[\"r2\"][5],\n",
    "          \"prediction\": nn_pred},\n",
    "}"
   ]
  },
  {
   "cell_type": "code",
   "execution_count": null,
   "metadata": {},
   "outputs": [],
   "source": [
    "results"
   ]
  }
 ],
 "metadata": {
  "kernelspec": {
   "display_name": "Python 3",
   "language": "python",
   "name": "python3"
  },
  "language_info": {
   "codemirror_mode": {
    "name": "ipython",
    "version": 3
   },
   "file_extension": ".py",
   "mimetype": "text/x-python",
   "name": "python",
   "nbconvert_exporter": "python",
   "pygments_lexer": "ipython3",
   "version": "3.8.5"
  }
 },
 "nbformat": 4,
 "nbformat_minor": 4
}

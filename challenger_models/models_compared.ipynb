{
 "cells": [
  {
   "cell_type": "code",
   "execution_count": 1,
   "metadata": {},
   "outputs": [],
   "source": [
    "# Set the seed value for the notebook so the results are reproducible\n",
    "from numpy.random import seed\n",
    "seed(1)\n"
   ]
  },
  {
   "cell_type": "code",
   "execution_count": 2,
   "metadata": {},
   "outputs": [
    {
     "data": {
      "text/plain": [
       "'2.2.4-tf'"
      ]
     },
     "execution_count": 2,
     "metadata": {},
     "output_type": "execute_result"
    }
   ],
   "source": [
    "import tensorflow\n",
    "tensorflow.keras.__version__"
   ]
  },
  {
   "cell_type": "code",
   "execution_count": 3,
   "metadata": {},
   "outputs": [],
   "source": [
    "import pandas as pd\n",
    "import numpy as np\n",
    "import matplotlib.pyplot as plt\n",
    "import pickle"
   ]
  },
  {
   "cell_type": "raw",
   "metadata": {},
   "source": [
    "import seaborn as sns\n",
    "sns.set_style('whitegrid')\n",
    "sns.set(rc={'figure.figsize':(11.7,8.27)})"
   ]
  },
  {
   "cell_type": "code",
   "execution_count": 5,
   "metadata": {},
   "outputs": [
    {
     "data": {
      "text/plain": [
       "(5000, 20)"
      ]
     },
     "execution_count": 5,
     "metadata": {},
     "output_type": "execute_result"
    }
   ],
   "source": [
    "df=pd.read_csv('./input_data/streeteasy.csv')\n",
    "df.shape"
   ]
  },
  {
   "cell_type": "code",
   "execution_count": 6,
   "metadata": {},
   "outputs": [
    {
     "data": {
      "text/html": [
       "<div>\n",
       "<style scoped>\n",
       "    .dataframe tbody tr th:only-of-type {\n",
       "        vertical-align: middle;\n",
       "    }\n",
       "\n",
       "    .dataframe tbody tr th {\n",
       "        vertical-align: top;\n",
       "    }\n",
       "\n",
       "    .dataframe thead th {\n",
       "        text-align: right;\n",
       "    }\n",
       "</style>\n",
       "<table border=\"1\" class=\"dataframe\">\n",
       "  <thead>\n",
       "    <tr style=\"text-align: right;\">\n",
       "      <th></th>\n",
       "      <th>rental_id</th>\n",
       "      <th>building_id</th>\n",
       "      <th>rent</th>\n",
       "      <th>bedrooms</th>\n",
       "      <th>bathrooms</th>\n",
       "      <th>size_sqft</th>\n",
       "      <th>min_to_subway</th>\n",
       "      <th>floor</th>\n",
       "      <th>building_age_yrs</th>\n",
       "      <th>no_fee</th>\n",
       "      <th>has_roofdeck</th>\n",
       "      <th>has_washer_dryer</th>\n",
       "      <th>has_doorman</th>\n",
       "      <th>has_elevator</th>\n",
       "      <th>has_dishwasher</th>\n",
       "      <th>has_patio</th>\n",
       "      <th>has_gym</th>\n",
       "      <th>neighborhood</th>\n",
       "      <th>submarket</th>\n",
       "      <th>borough</th>\n",
       "    </tr>\n",
       "  </thead>\n",
       "  <tbody>\n",
       "    <tr>\n",
       "      <th>0</th>\n",
       "      <td>1545</td>\n",
       "      <td>44518357</td>\n",
       "      <td>2550</td>\n",
       "      <td>0.0</td>\n",
       "      <td>1</td>\n",
       "      <td>480</td>\n",
       "      <td>9</td>\n",
       "      <td>2.0</td>\n",
       "      <td>17</td>\n",
       "      <td>1</td>\n",
       "      <td>1</td>\n",
       "      <td>0</td>\n",
       "      <td>0</td>\n",
       "      <td>1</td>\n",
       "      <td>1</td>\n",
       "      <td>0</td>\n",
       "      <td>1</td>\n",
       "      <td>Upper East Side</td>\n",
       "      <td>All Upper East Side</td>\n",
       "      <td>Manhattan</td>\n",
       "    </tr>\n",
       "    <tr>\n",
       "      <th>1</th>\n",
       "      <td>2472</td>\n",
       "      <td>94441623</td>\n",
       "      <td>11500</td>\n",
       "      <td>2.0</td>\n",
       "      <td>2</td>\n",
       "      <td>2000</td>\n",
       "      <td>4</td>\n",
       "      <td>1.0</td>\n",
       "      <td>96</td>\n",
       "      <td>0</td>\n",
       "      <td>0</td>\n",
       "      <td>0</td>\n",
       "      <td>0</td>\n",
       "      <td>0</td>\n",
       "      <td>0</td>\n",
       "      <td>0</td>\n",
       "      <td>0</td>\n",
       "      <td>Greenwich Village</td>\n",
       "      <td>All Downtown</td>\n",
       "      <td>Manhattan</td>\n",
       "    </tr>\n",
       "    <tr>\n",
       "      <th>2</th>\n",
       "      <td>10234</td>\n",
       "      <td>87632265</td>\n",
       "      <td>3000</td>\n",
       "      <td>3.0</td>\n",
       "      <td>1</td>\n",
       "      <td>1000</td>\n",
       "      <td>4</td>\n",
       "      <td>1.0</td>\n",
       "      <td>106</td>\n",
       "      <td>0</td>\n",
       "      <td>0</td>\n",
       "      <td>0</td>\n",
       "      <td>0</td>\n",
       "      <td>0</td>\n",
       "      <td>0</td>\n",
       "      <td>0</td>\n",
       "      <td>0</td>\n",
       "      <td>Astoria</td>\n",
       "      <td>Northwest Queens</td>\n",
       "      <td>Queens</td>\n",
       "    </tr>\n",
       "    <tr>\n",
       "      <th>3</th>\n",
       "      <td>2919</td>\n",
       "      <td>76909719</td>\n",
       "      <td>4500</td>\n",
       "      <td>1.0</td>\n",
       "      <td>1</td>\n",
       "      <td>916</td>\n",
       "      <td>2</td>\n",
       "      <td>51.0</td>\n",
       "      <td>29</td>\n",
       "      <td>0</td>\n",
       "      <td>1</td>\n",
       "      <td>0</td>\n",
       "      <td>1</td>\n",
       "      <td>1</td>\n",
       "      <td>1</td>\n",
       "      <td>0</td>\n",
       "      <td>0</td>\n",
       "      <td>Midtown</td>\n",
       "      <td>All Midtown</td>\n",
       "      <td>Manhattan</td>\n",
       "    </tr>\n",
       "    <tr>\n",
       "      <th>4</th>\n",
       "      <td>2790</td>\n",
       "      <td>92953520</td>\n",
       "      <td>4795</td>\n",
       "      <td>1.0</td>\n",
       "      <td>1</td>\n",
       "      <td>975</td>\n",
       "      <td>3</td>\n",
       "      <td>8.0</td>\n",
       "      <td>31</td>\n",
       "      <td>0</td>\n",
       "      <td>0</td>\n",
       "      <td>0</td>\n",
       "      <td>1</td>\n",
       "      <td>1</td>\n",
       "      <td>1</td>\n",
       "      <td>0</td>\n",
       "      <td>1</td>\n",
       "      <td>Greenwich Village</td>\n",
       "      <td>All Downtown</td>\n",
       "      <td>Manhattan</td>\n",
       "    </tr>\n",
       "  </tbody>\n",
       "</table>\n",
       "</div>"
      ],
      "text/plain": [
       "   rental_id  building_id   rent  bedrooms  bathrooms  size_sqft  \\\n",
       "0       1545     44518357   2550       0.0          1        480   \n",
       "1       2472     94441623  11500       2.0          2       2000   \n",
       "2      10234     87632265   3000       3.0          1       1000   \n",
       "3       2919     76909719   4500       1.0          1        916   \n",
       "4       2790     92953520   4795       1.0          1        975   \n",
       "\n",
       "   min_to_subway  floor  building_age_yrs  no_fee  has_roofdeck  \\\n",
       "0              9    2.0                17       1             1   \n",
       "1              4    1.0                96       0             0   \n",
       "2              4    1.0               106       0             0   \n",
       "3              2   51.0                29       0             1   \n",
       "4              3    8.0                31       0             0   \n",
       "\n",
       "   has_washer_dryer  has_doorman  has_elevator  has_dishwasher  has_patio  \\\n",
       "0                 0            0             1               1          0   \n",
       "1                 0            0             0               0          0   \n",
       "2                 0            0             0               0          0   \n",
       "3                 0            1             1               1          0   \n",
       "4                 0            1             1               1          0   \n",
       "\n",
       "   has_gym       neighborhood            submarket    borough  \n",
       "0        1    Upper East Side  All Upper East Side  Manhattan  \n",
       "1        0  Greenwich Village         All Downtown  Manhattan  \n",
       "2        0            Astoria     Northwest Queens     Queens  \n",
       "3        0            Midtown          All Midtown  Manhattan  \n",
       "4        1  Greenwich Village         All Downtown  Manhattan  "
      ]
     },
     "execution_count": 6,
     "metadata": {},
     "output_type": "execute_result"
    }
   ],
   "source": [
    "df.head()"
   ]
  },
  {
   "cell_type": "code",
   "execution_count": 7,
   "metadata": {},
   "outputs": [
    {
     "data": {
      "text/html": [
       "<div>\n",
       "<style scoped>\n",
       "    .dataframe tbody tr th:only-of-type {\n",
       "        vertical-align: middle;\n",
       "    }\n",
       "\n",
       "    .dataframe tbody tr th {\n",
       "        vertical-align: top;\n",
       "    }\n",
       "\n",
       "    .dataframe thead th {\n",
       "        text-align: right;\n",
       "    }\n",
       "</style>\n",
       "<table border=\"1\" class=\"dataframe\">\n",
       "  <thead>\n",
       "    <tr style=\"text-align: right;\">\n",
       "      <th></th>\n",
       "      <th>rental_id</th>\n",
       "      <th>building_id</th>\n",
       "      <th>rent</th>\n",
       "      <th>bedrooms</th>\n",
       "      <th>bathrooms</th>\n",
       "      <th>size_sqft</th>\n",
       "      <th>min_to_subway</th>\n",
       "      <th>floor</th>\n",
       "      <th>building_age_yrs</th>\n",
       "      <th>no_fee</th>\n",
       "      <th>has_roofdeck</th>\n",
       "      <th>has_washer_dryer</th>\n",
       "      <th>has_doorman</th>\n",
       "      <th>has_elevator</th>\n",
       "      <th>has_dishwasher</th>\n",
       "      <th>has_patio</th>\n",
       "      <th>has_gym</th>\n",
       "    </tr>\n",
       "  </thead>\n",
       "  <tbody>\n",
       "    <tr>\n",
       "      <th>count</th>\n",
       "      <td>5000.000000</td>\n",
       "      <td>5.000000e+03</td>\n",
       "      <td>5000.000000</td>\n",
       "      <td>5000.000000</td>\n",
       "      <td>5000.000000</td>\n",
       "      <td>5000.000000</td>\n",
       "      <td>5000.000000</td>\n",
       "      <td>5000.000000</td>\n",
       "      <td>5000.000000</td>\n",
       "      <td>5000.000000</td>\n",
       "      <td>5000.00000</td>\n",
       "      <td>5000.000000</td>\n",
       "      <td>5000.000000</td>\n",
       "      <td>5000.000000</td>\n",
       "      <td>5000.000000</td>\n",
       "      <td>5000.000000</td>\n",
       "      <td>5000.000000</td>\n",
       "    </tr>\n",
       "    <tr>\n",
       "      <th>mean</th>\n",
       "      <td>5526.909400</td>\n",
       "      <td>5.122007e+07</td>\n",
       "      <td>4536.920800</td>\n",
       "      <td>1.395700</td>\n",
       "      <td>1.321600</td>\n",
       "      <td>920.101400</td>\n",
       "      <td>5.079200</td>\n",
       "      <td>10.190200</td>\n",
       "      <td>52.093200</td>\n",
       "      <td>0.429600</td>\n",
       "      <td>0.12860</td>\n",
       "      <td>0.133800</td>\n",
       "      <td>0.228000</td>\n",
       "      <td>0.240000</td>\n",
       "      <td>0.155600</td>\n",
       "      <td>0.045600</td>\n",
       "      <td>0.143800</td>\n",
       "    </tr>\n",
       "    <tr>\n",
       "      <th>std</th>\n",
       "      <td>3263.692417</td>\n",
       "      <td>2.802283e+07</td>\n",
       "      <td>2929.838953</td>\n",
       "      <td>0.961018</td>\n",
       "      <td>0.565542</td>\n",
       "      <td>440.150464</td>\n",
       "      <td>5.268897</td>\n",
       "      <td>10.565361</td>\n",
       "      <td>40.224501</td>\n",
       "      <td>0.495069</td>\n",
       "      <td>0.33479</td>\n",
       "      <td>0.340471</td>\n",
       "      <td>0.419585</td>\n",
       "      <td>0.427126</td>\n",
       "      <td>0.362512</td>\n",
       "      <td>0.208637</td>\n",
       "      <td>0.350922</td>\n",
       "    </tr>\n",
       "    <tr>\n",
       "      <th>min</th>\n",
       "      <td>1.000000</td>\n",
       "      <td>7.107000e+03</td>\n",
       "      <td>1250.000000</td>\n",
       "      <td>0.000000</td>\n",
       "      <td>0.000000</td>\n",
       "      <td>250.000000</td>\n",
       "      <td>0.000000</td>\n",
       "      <td>0.000000</td>\n",
       "      <td>0.000000</td>\n",
       "      <td>0.000000</td>\n",
       "      <td>0.00000</td>\n",
       "      <td>0.000000</td>\n",
       "      <td>0.000000</td>\n",
       "      <td>0.000000</td>\n",
       "      <td>0.000000</td>\n",
       "      <td>0.000000</td>\n",
       "      <td>0.000000</td>\n",
       "    </tr>\n",
       "    <tr>\n",
       "      <th>25%</th>\n",
       "      <td>2699.750000</td>\n",
       "      <td>2.699811e+07</td>\n",
       "      <td>2750.000000</td>\n",
       "      <td>1.000000</td>\n",
       "      <td>1.000000</td>\n",
       "      <td>633.000000</td>\n",
       "      <td>2.000000</td>\n",
       "      <td>3.000000</td>\n",
       "      <td>12.000000</td>\n",
       "      <td>0.000000</td>\n",
       "      <td>0.00000</td>\n",
       "      <td>0.000000</td>\n",
       "      <td>0.000000</td>\n",
       "      <td>0.000000</td>\n",
       "      <td>0.000000</td>\n",
       "      <td>0.000000</td>\n",
       "      <td>0.000000</td>\n",
       "    </tr>\n",
       "    <tr>\n",
       "      <th>50%</th>\n",
       "      <td>5456.500000</td>\n",
       "      <td>5.069894e+07</td>\n",
       "      <td>3600.000000</td>\n",
       "      <td>1.000000</td>\n",
       "      <td>1.000000</td>\n",
       "      <td>800.000000</td>\n",
       "      <td>4.000000</td>\n",
       "      <td>6.000000</td>\n",
       "      <td>44.000000</td>\n",
       "      <td>0.000000</td>\n",
       "      <td>0.00000</td>\n",
       "      <td>0.000000</td>\n",
       "      <td>0.000000</td>\n",
       "      <td>0.000000</td>\n",
       "      <td>0.000000</td>\n",
       "      <td>0.000000</td>\n",
       "      <td>0.000000</td>\n",
       "    </tr>\n",
       "    <tr>\n",
       "      <th>75%</th>\n",
       "      <td>8306.000000</td>\n",
       "      <td>7.572064e+07</td>\n",
       "      <td>5200.000000</td>\n",
       "      <td>2.000000</td>\n",
       "      <td>2.000000</td>\n",
       "      <td>1094.000000</td>\n",
       "      <td>6.000000</td>\n",
       "      <td>14.000000</td>\n",
       "      <td>89.000000</td>\n",
       "      <td>1.000000</td>\n",
       "      <td>0.00000</td>\n",
       "      <td>0.000000</td>\n",
       "      <td>0.000000</td>\n",
       "      <td>0.000000</td>\n",
       "      <td>0.000000</td>\n",
       "      <td>0.000000</td>\n",
       "      <td>0.000000</td>\n",
       "    </tr>\n",
       "    <tr>\n",
       "      <th>max</th>\n",
       "      <td>11349.000000</td>\n",
       "      <td>9.998721e+07</td>\n",
       "      <td>20000.000000</td>\n",
       "      <td>5.000000</td>\n",
       "      <td>5.000000</td>\n",
       "      <td>4800.000000</td>\n",
       "      <td>51.000000</td>\n",
       "      <td>83.000000</td>\n",
       "      <td>180.000000</td>\n",
       "      <td>1.000000</td>\n",
       "      <td>1.00000</td>\n",
       "      <td>1.000000</td>\n",
       "      <td>1.000000</td>\n",
       "      <td>1.000000</td>\n",
       "      <td>1.000000</td>\n",
       "      <td>1.000000</td>\n",
       "      <td>1.000000</td>\n",
       "    </tr>\n",
       "  </tbody>\n",
       "</table>\n",
       "</div>"
      ],
      "text/plain": [
       "          rental_id   building_id          rent     bedrooms    bathrooms  \\\n",
       "count   5000.000000  5.000000e+03   5000.000000  5000.000000  5000.000000   \n",
       "mean    5526.909400  5.122007e+07   4536.920800     1.395700     1.321600   \n",
       "std     3263.692417  2.802283e+07   2929.838953     0.961018     0.565542   \n",
       "min        1.000000  7.107000e+03   1250.000000     0.000000     0.000000   \n",
       "25%     2699.750000  2.699811e+07   2750.000000     1.000000     1.000000   \n",
       "50%     5456.500000  5.069894e+07   3600.000000     1.000000     1.000000   \n",
       "75%     8306.000000  7.572064e+07   5200.000000     2.000000     2.000000   \n",
       "max    11349.000000  9.998721e+07  20000.000000     5.000000     5.000000   \n",
       "\n",
       "         size_sqft  min_to_subway        floor  building_age_yrs       no_fee  \\\n",
       "count  5000.000000    5000.000000  5000.000000       5000.000000  5000.000000   \n",
       "mean    920.101400       5.079200    10.190200         52.093200     0.429600   \n",
       "std     440.150464       5.268897    10.565361         40.224501     0.495069   \n",
       "min     250.000000       0.000000     0.000000          0.000000     0.000000   \n",
       "25%     633.000000       2.000000     3.000000         12.000000     0.000000   \n",
       "50%     800.000000       4.000000     6.000000         44.000000     0.000000   \n",
       "75%    1094.000000       6.000000    14.000000         89.000000     1.000000   \n",
       "max    4800.000000      51.000000    83.000000        180.000000     1.000000   \n",
       "\n",
       "       has_roofdeck  has_washer_dryer  has_doorman  has_elevator  \\\n",
       "count    5000.00000       5000.000000  5000.000000   5000.000000   \n",
       "mean        0.12860          0.133800     0.228000      0.240000   \n",
       "std         0.33479          0.340471     0.419585      0.427126   \n",
       "min         0.00000          0.000000     0.000000      0.000000   \n",
       "25%         0.00000          0.000000     0.000000      0.000000   \n",
       "50%         0.00000          0.000000     0.000000      0.000000   \n",
       "75%         0.00000          0.000000     0.000000      0.000000   \n",
       "max         1.00000          1.000000     1.000000      1.000000   \n",
       "\n",
       "       has_dishwasher    has_patio      has_gym  \n",
       "count     5000.000000  5000.000000  5000.000000  \n",
       "mean         0.155600     0.045600     0.143800  \n",
       "std          0.362512     0.208637     0.350922  \n",
       "min          0.000000     0.000000     0.000000  \n",
       "25%          0.000000     0.000000     0.000000  \n",
       "50%          0.000000     0.000000     0.000000  \n",
       "75%          0.000000     0.000000     0.000000  \n",
       "max          1.000000     1.000000     1.000000  "
      ]
     },
     "execution_count": 7,
     "metadata": {},
     "output_type": "execute_result"
    }
   ],
   "source": [
    "df.describe()\n"
   ]
  },
  {
   "cell_type": "code",
   "execution_count": 8,
   "metadata": {},
   "outputs": [
    {
     "data": {
      "text/html": [
       "<div>\n",
       "<style scoped>\n",
       "    .dataframe tbody tr th:only-of-type {\n",
       "        vertical-align: middle;\n",
       "    }\n",
       "\n",
       "    .dataframe tbody tr th {\n",
       "        vertical-align: top;\n",
       "    }\n",
       "\n",
       "    .dataframe thead th {\n",
       "        text-align: right;\n",
       "    }\n",
       "</style>\n",
       "<table border=\"1\" class=\"dataframe\">\n",
       "  <thead>\n",
       "    <tr style=\"text-align: right;\">\n",
       "      <th></th>\n",
       "      <th>rental_id</th>\n",
       "      <th>building_id</th>\n",
       "      <th>rent</th>\n",
       "      <th>bedrooms</th>\n",
       "      <th>bathrooms</th>\n",
       "      <th>size_sqft</th>\n",
       "      <th>min_to_subway</th>\n",
       "      <th>floor</th>\n",
       "      <th>building_age_yrs</th>\n",
       "      <th>no_fee</th>\n",
       "      <th>...</th>\n",
       "      <th>submarket_Northeast Queens</th>\n",
       "      <th>submarket_Northwest Brooklyn</th>\n",
       "      <th>submarket_Northwest Queens</th>\n",
       "      <th>submarket_Prospect Park</th>\n",
       "      <th>submarket_South Brooklyn</th>\n",
       "      <th>submarket_South Queens</th>\n",
       "      <th>submarket_The Rockaways</th>\n",
       "      <th>borough_Brooklyn</th>\n",
       "      <th>borough_Manhattan</th>\n",
       "      <th>borough_Queens</th>\n",
       "    </tr>\n",
       "  </thead>\n",
       "  <tbody>\n",
       "    <tr>\n",
       "      <th>0</th>\n",
       "      <td>1545</td>\n",
       "      <td>44518357</td>\n",
       "      <td>2550</td>\n",
       "      <td>0.0</td>\n",
       "      <td>1</td>\n",
       "      <td>480</td>\n",
       "      <td>9</td>\n",
       "      <td>2.0</td>\n",
       "      <td>17</td>\n",
       "      <td>1</td>\n",
       "      <td>...</td>\n",
       "      <td>0</td>\n",
       "      <td>0</td>\n",
       "      <td>0</td>\n",
       "      <td>0</td>\n",
       "      <td>0</td>\n",
       "      <td>0</td>\n",
       "      <td>0</td>\n",
       "      <td>0</td>\n",
       "      <td>1</td>\n",
       "      <td>0</td>\n",
       "    </tr>\n",
       "    <tr>\n",
       "      <th>1</th>\n",
       "      <td>2472</td>\n",
       "      <td>94441623</td>\n",
       "      <td>11500</td>\n",
       "      <td>2.0</td>\n",
       "      <td>2</td>\n",
       "      <td>2000</td>\n",
       "      <td>4</td>\n",
       "      <td>1.0</td>\n",
       "      <td>96</td>\n",
       "      <td>0</td>\n",
       "      <td>...</td>\n",
       "      <td>0</td>\n",
       "      <td>0</td>\n",
       "      <td>0</td>\n",
       "      <td>0</td>\n",
       "      <td>0</td>\n",
       "      <td>0</td>\n",
       "      <td>0</td>\n",
       "      <td>0</td>\n",
       "      <td>1</td>\n",
       "      <td>0</td>\n",
       "    </tr>\n",
       "    <tr>\n",
       "      <th>2</th>\n",
       "      <td>10234</td>\n",
       "      <td>87632265</td>\n",
       "      <td>3000</td>\n",
       "      <td>3.0</td>\n",
       "      <td>1</td>\n",
       "      <td>1000</td>\n",
       "      <td>4</td>\n",
       "      <td>1.0</td>\n",
       "      <td>106</td>\n",
       "      <td>0</td>\n",
       "      <td>...</td>\n",
       "      <td>0</td>\n",
       "      <td>0</td>\n",
       "      <td>1</td>\n",
       "      <td>0</td>\n",
       "      <td>0</td>\n",
       "      <td>0</td>\n",
       "      <td>0</td>\n",
       "      <td>0</td>\n",
       "      <td>0</td>\n",
       "      <td>1</td>\n",
       "    </tr>\n",
       "    <tr>\n",
       "      <th>3</th>\n",
       "      <td>2919</td>\n",
       "      <td>76909719</td>\n",
       "      <td>4500</td>\n",
       "      <td>1.0</td>\n",
       "      <td>1</td>\n",
       "      <td>916</td>\n",
       "      <td>2</td>\n",
       "      <td>51.0</td>\n",
       "      <td>29</td>\n",
       "      <td>0</td>\n",
       "      <td>...</td>\n",
       "      <td>0</td>\n",
       "      <td>0</td>\n",
       "      <td>0</td>\n",
       "      <td>0</td>\n",
       "      <td>0</td>\n",
       "      <td>0</td>\n",
       "      <td>0</td>\n",
       "      <td>0</td>\n",
       "      <td>1</td>\n",
       "      <td>0</td>\n",
       "    </tr>\n",
       "    <tr>\n",
       "      <th>4</th>\n",
       "      <td>2790</td>\n",
       "      <td>92953520</td>\n",
       "      <td>4795</td>\n",
       "      <td>1.0</td>\n",
       "      <td>1</td>\n",
       "      <td>975</td>\n",
       "      <td>3</td>\n",
       "      <td>8.0</td>\n",
       "      <td>31</td>\n",
       "      <td>0</td>\n",
       "      <td>...</td>\n",
       "      <td>0</td>\n",
       "      <td>0</td>\n",
       "      <td>0</td>\n",
       "      <td>0</td>\n",
       "      <td>0</td>\n",
       "      <td>0</td>\n",
       "      <td>0</td>\n",
       "      <td>0</td>\n",
       "      <td>1</td>\n",
       "      <td>0</td>\n",
       "    </tr>\n",
       "  </tbody>\n",
       "</table>\n",
       "<p>5 rows × 128 columns</p>\n",
       "</div>"
      ],
      "text/plain": [
       "   rental_id  building_id   rent  bedrooms  bathrooms  size_sqft  \\\n",
       "0       1545     44518357   2550       0.0          1        480   \n",
       "1       2472     94441623  11500       2.0          2       2000   \n",
       "2      10234     87632265   3000       3.0          1       1000   \n",
       "3       2919     76909719   4500       1.0          1        916   \n",
       "4       2790     92953520   4795       1.0          1        975   \n",
       "\n",
       "   min_to_subway  floor  building_age_yrs  no_fee  ...  \\\n",
       "0              9    2.0                17       1  ...   \n",
       "1              4    1.0                96       0  ...   \n",
       "2              4    1.0               106       0  ...   \n",
       "3              2   51.0                29       0  ...   \n",
       "4              3    8.0                31       0  ...   \n",
       "\n",
       "   submarket_Northeast Queens  submarket_Northwest Brooklyn  \\\n",
       "0                           0                             0   \n",
       "1                           0                             0   \n",
       "2                           0                             0   \n",
       "3                           0                             0   \n",
       "4                           0                             0   \n",
       "\n",
       "   submarket_Northwest Queens  submarket_Prospect Park  \\\n",
       "0                           0                        0   \n",
       "1                           0                        0   \n",
       "2                           1                        0   \n",
       "3                           0                        0   \n",
       "4                           0                        0   \n",
       "\n",
       "   submarket_South Brooklyn  submarket_South Queens  submarket_The Rockaways  \\\n",
       "0                         0                       0                        0   \n",
       "1                         0                       0                        0   \n",
       "2                         0                       0                        0   \n",
       "3                         0                       0                        0   \n",
       "4                         0                       0                        0   \n",
       "\n",
       "   borough_Brooklyn  borough_Manhattan  borough_Queens  \n",
       "0                 0                  1               0  \n",
       "1                 0                  1               0  \n",
       "2                 0                  0               1  \n",
       "3                 0                  1               0  \n",
       "4                 0                  1               0  \n",
       "\n",
       "[5 rows x 128 columns]"
      ]
     },
     "execution_count": 8,
     "metadata": {},
     "output_type": "execute_result"
    }
   ],
   "source": [
    "# Use Pandas get_dummies to convert categorical data\n",
    "\n",
    "### BEGIN SOLUTION\n",
    "df = pd.get_dummies(df)\n",
    "df.head()\n",
    "### END SOLUTION"
   ]
  },
  {
   "cell_type": "code",
   "execution_count": 9,
   "metadata": {},
   "outputs": [
    {
     "name": "stdout",
     "output_type": "stream",
     "text": [
      "Index(['rental_id', 'building_id', 'rent', 'bedrooms', 'bathrooms',\n",
      "       'size_sqft', 'min_to_subway', 'floor', 'building_age_yrs', 'no_fee',\n",
      "       ...\n",
      "       'submarket_Northeast Queens', 'submarket_Northwest Brooklyn',\n",
      "       'submarket_Northwest Queens', 'submarket_Prospect Park',\n",
      "       'submarket_South Brooklyn', 'submarket_South Queens',\n",
      "       'submarket_The Rockaways', 'borough_Brooklyn', 'borough_Manhattan',\n",
      "       'borough_Queens'],\n",
      "      dtype='object', length=128)\n"
     ]
    }
   ],
   "source": [
    "print(df.columns)"
   ]
  },
  {
   "cell_type": "code",
   "execution_count": 10,
   "metadata": {},
   "outputs": [
    {
     "name": "stdout",
     "output_type": "stream",
     "text": [
      "(5000, 24) (5000, 1)\n"
     ]
    }
   ],
   "source": [
    "# Assign X (data) and y (target)\n",
    "\n",
    "### BEGIN SOLUTION\n",
    "X = df[['bedrooms', 'bathrooms', 'size_sqft', 'min_to_subway', 'floor', 'building_age_yrs', 'no_fee',\n",
    "        'has_roofdeck','has_washer_dryer','has_doorman','has_elevator','has_dishwasher','has_patio','has_gym',\n",
    "       'submarket_Northeast Queens', 'submarket_Northwest Brooklyn',\n",
    "       'submarket_Northwest Queens', 'submarket_Prospect Park',\n",
    "       'submarket_South Brooklyn', 'submarket_South Queens',\n",
    "       'submarket_The Rockaways', 'borough_Brooklyn', 'borough_Manhattan',\n",
    "       'borough_Queens']]\n",
    "y = df[\"rent\"].values.reshape(-1, 1)\n",
    "print(X.shape, y.shape)\n",
    "### END SOLUTION"
   ]
  },
  {
   "cell_type": "code",
   "execution_count": 11,
   "metadata": {},
   "outputs": [],
   "source": [
    "# Split the data into training and testing\n",
    "\n",
    "### BEGIN SOLUTION\n",
    "from sklearn.model_selection import train_test_split\n",
    "\n",
    "X_train, X_test, y_train, y_test = train_test_split(X, y, test_size=0.2, random_state=1)\n",
    "### END SOLUTION"
   ]
  },
  {
   "cell_type": "code",
   "execution_count": 12,
   "metadata": {},
   "outputs": [
    {
     "name": "stdout",
     "output_type": "stream",
     "text": [
      "(4000, 24)\n",
      "(1000, 24)\n",
      "(4000, 1)\n",
      "(1000, 1)\n"
     ]
    }
   ],
   "source": [
    "print(X_train.shape)\n",
    "print(X_test.shape)\n",
    "print(y_train.shape)\n",
    "print(y_test.shape)"
   ]
  },
  {
   "cell_type": "markdown",
   "metadata": {},
   "source": [
    "# Scaled"
   ]
  },
  {
   "cell_type": "code",
   "execution_count": 14,
   "metadata": {},
   "outputs": [],
   "source": [
    "from sklearn.model_selection import train_test_split\n",
    "from sklearn.preprocessing import LabelEncoder, MinMaxScaler\n",
    "from tensorflow.keras.utils import to_categorical"
   ]
  },
  {
   "cell_type": "code",
   "execution_count": 15,
   "metadata": {},
   "outputs": [],
   "source": [
    "from sklearn.preprocessing import StandardScaler\n",
    "\n",
    "# Create a StandardScater model and fit it to the training data\n",
    "\n",
    "### BEGIN SOLUTION\n",
    "X_scaler = StandardScaler().fit(X_train)\n",
    "y_scaler = StandardScaler().fit(y_train)\n",
    "### END SOLUTION"
   ]
  },
  {
   "cell_type": "code",
   "execution_count": 16,
   "metadata": {},
   "outputs": [],
   "source": [
    "# Transform the training and testing data using the X_scaler and y_scaler models\n",
    "\n",
    "### BEGIN SOLUTION\n",
    "X_train_scaled = X_scaler.transform(X_train)\n",
    "X_test_scaled = X_scaler.transform(X_test)\n",
    "y_train_scaled = y_scaler.transform(y_train)\n",
    "y_test_scaled = y_scaler.transform(y_test)\n",
    "### END SOLUTION"
   ]
  },
  {
   "cell_type": "code",
   "execution_count": 69,
   "metadata": {},
   "outputs": [
    {
     "name": "stdout",
     "output_type": "stream",
     "text": [
      "(4000, 24)\n",
      "(1000, 24)\n",
      "(4000, 1)\n",
      "(1000, 1)\n"
     ]
    }
   ],
   "source": [
    "print(X_train_scaled.shape)\n",
    "print(X_test_scaled.shape)\n",
    "print(y_train_scaled.shape)\n",
    "print(y_test_scaled.shape)"
   ]
  },
  {
   "cell_type": "markdown",
   "metadata": {},
   "source": [
    "# LinearRegression "
   ]
  },
  {
   "cell_type": "code",
   "execution_count": 70,
   "metadata": {},
   "outputs": [],
   "source": [
    "# train_scaled\n",
    "from sklearn.linear_model import LinearRegression \n",
    "lm_model = LinearRegression()\n",
    "lm_model.fit(X_train_scaled, y_train_scaled)\n",
    "lm_predictions = lm_model.predict(X_train_scaled)"
   ]
  },
  {
   "cell_type": "code",
   "execution_count": 72,
   "metadata": {},
   "outputs": [
    {
     "name": "stdout",
     "output_type": "stream",
     "text": [
      "0.4755138219698087\n",
      "0.4775604237348876\n"
     ]
    }
   ],
   "source": [
    "#pred_train_scaled= model.predict(X_train_scaled)\n",
    "print(np.sqrt(mean_squared_error(y_train_scaled,lm_predictions)))\n",
    "\n",
    "lm_pred= lm_model.predict(X_test_scaled)\n",
    "print(np.sqrt(mean_squared_error(y_test_scaled,lm_pred))) "
   ]
  },
  {
   "cell_type": "code",
   "execution_count": 79,
   "metadata": {},
   "outputs": [
    {
     "name": "stdout",
     "output_type": "stream",
     "text": [
      "MSE: 0.2261133948843349, R2: 0.7865380426101911\n"
     ]
    }
   ],
   "source": [
    "from sklearn.metrics import mean_squared_error\n",
    "\n",
    "MSE = mean_squared_error(y_train_scaled, lm_predictions)\n",
    "r2 = lm_model.score(X_test_scaled, y_test_scaled)\n",
    "\n",
    "print(f\"MSE: {MSE}, R2: {r2}\")"
   ]
  },
  {
   "cell_type": "markdown",
   "metadata": {},
   "source": [
    "# LASSO"
   ]
  },
  {
   "cell_type": "code",
   "execution_count": 81,
   "metadata": {},
   "outputs": [
    {
     "name": "stdout",
     "output_type": "stream",
     "text": [
      "MSE: 0.23164832150283815, R2: 0.7831831715156616\n"
     ]
    }
   ],
   "source": [
    "# LASSO model\n",
    "# Note: Use an alpha of .01 when creating the model for this activity\n",
    "from sklearn.linear_model import Lasso\n",
    "\n",
    "### BEGIN SOLUTION\n",
    "lasso = Lasso(alpha=.01).fit(X_train_scaled, y_train_scaled)\n",
    "\n",
    "lasso_predictions = lasso.predict(X_test_scaled)\n",
    "\n",
    "MSE = mean_squared_error(y_test_scaled, lasso_predictions)\n",
    "r2 = lasso.score(X_test_scaled, y_test_scaled)\n",
    "### END SOLUTION\n",
    "\n",
    "print(f\"MSE: {MSE}, R2: {r2}\")\n",
    "\n",
    "#MSE: 0.23164832150283815, R2: 0.7831831715156616"
   ]
  },
  {
   "cell_type": "markdown",
   "metadata": {},
   "source": [
    "# RIDGE"
   ]
  },
  {
   "cell_type": "code",
   "execution_count": 82,
   "metadata": {},
   "outputs": [
    {
     "name": "stdout",
     "output_type": "stream",
     "text": [
      "MSE: 0.2280639465390835, R2: 0.7865380536348072\n"
     ]
    }
   ],
   "source": [
    "# Ridge model\n",
    "# Note: Use an alpha of .01 when creating the model for this activity\n",
    "from sklearn.linear_model import Ridge\n",
    "\n",
    "### BEGIN SOLUTION\n",
    "ridge = Ridge(alpha=.01).fit(X_train_scaled, y_train_scaled)\n",
    "\n",
    "ridge_predictions = ridge.predict(X_test_scaled)\n",
    "\n",
    "MSE = mean_squared_error(y_test_scaled, ridge_predictions)\n",
    "r2 = ridge.score(X_test_scaled, y_test_scaled)\n",
    "### END SOLUTION\n",
    "\n",
    "print(f\"MSE: {MSE}, R2: {r2}\")\n",
    "\n",
    "#MSE: 0.2280639465390835, R2: 0.7865380536348072\n"
   ]
  },
  {
   "cell_type": "markdown",
   "metadata": {},
   "source": [
    "# ElasticNet model"
   ]
  },
  {
   "cell_type": "code",
   "execution_count": 83,
   "metadata": {},
   "outputs": [
    {
     "name": "stdout",
     "output_type": "stream",
     "text": [
      "MSE: 0.2295263860678174, R2: 0.785169248117836\n"
     ]
    }
   ],
   "source": [
    "# ElasticNet model\n",
    "# Note: Use an alpha of .01 when creating the model for this activity\n",
    "from sklearn.linear_model import ElasticNet\n",
    "\n",
    "### BEGIN SOLUTION\n",
    "elasticnet = ElasticNet(alpha=.01).fit(X_train_scaled, y_train_scaled)\n",
    "\n",
    "el_predictions = elasticnet.predict(X_test_scaled)\n",
    "\n",
    "MSE = mean_squared_error(y_test_scaled, el_predictions)\n",
    "r2 = elasticnet.score(X_test_scaled, y_test_scaled)\n",
    "### END SOLUTION\n",
    "\n",
    "print(f\"MSE: {MSE}, R2: {r2}\")\n",
    "\n",
    "#MSE: 0.2295263860678174, R2: 0.785169248117836"
   ]
  },
  {
   "cell_type": "markdown",
   "metadata": {},
   "source": [
    "# XGBoost Regressor"
   ]
  },
  {
   "cell_type": "code",
   "execution_count": 75,
   "metadata": {},
   "outputs": [],
   "source": [
    "from xgboost import XGBRegressor"
   ]
  },
  {
   "cell_type": "code",
   "execution_count": 84,
   "metadata": {},
   "outputs": [
    {
     "name": "stdout",
     "output_type": "stream",
     "text": [
      "MSE: 0.18586070593291346, R2: 0.8260391936414665\n"
     ]
    }
   ],
   "source": [
    "XGBModel = XGBRegressor()\n",
    "XGBModel.fit(X_train_scaled, y_train_scaled , verbose=False)\n",
    "\n",
    "# Get the mean absolute error on the validation data :\n",
    "XGBpredictions = XGBModel.predict(X_test_scaled)\n",
    "\n",
    "MSE = mean_squared_error(y_test_scaled, XGBpredictions)\n",
    "r2 = XGBModel.score(X_test_scaled, y_test_scaled)\n",
    "### END SOLUTION\n",
    "\n",
    "print(f\"MSE: {MSE}, R2: {r2}\")\n"
   ]
  },
  {
   "cell_type": "code",
   "execution_count": null,
   "metadata": {},
   "outputs": [],
   "source": []
  },
  {
   "cell_type": "markdown",
   "metadata": {},
   "source": [
    "# Neural Network"
   ]
  },
  {
   "cell_type": "code",
   "execution_count": 31,
   "metadata": {},
   "outputs": [],
   "source": [
    "from tensorflow.keras.models import Sequential\n",
    "from tensorflow.keras.layers import Dense"
   ]
  },
  {
   "cell_type": "raw",
   "metadata": {},
   "source": [
    "# Create model and add layers\n",
    "model = Sequential()\n",
    "model.add(Dense(units=100, kernel_initializer= 'normal', activation='relu', input_dim=24))\n",
    "model.add(Dense(units=1, activation='relu'))\n",
    "#model.add(Dense(units=2, activation='softmax'))"
   ]
  },
  {
   "cell_type": "code",
   "execution_count": 59,
   "metadata": {},
   "outputs": [],
   "source": [
    "# Define model\n",
    "model = Sequential()\n",
    "model.add(Dense(500, input_dim=24, activation= \"relu\"))\n",
    "model.add(Dense(100, activation= \"relu\"))\n",
    "model.add(Dense(50, activation= \"relu\"))\n",
    "model.add(Dense(1))\n",
    "#model.summary() #Print model Summary"
   ]
  },
  {
   "cell_type": "code",
   "execution_count": 60,
   "metadata": {},
   "outputs": [
    {
     "name": "stdout",
     "output_type": "stream",
     "text": [
      "Model: \"sequential_4\"\n",
      "_________________________________________________________________\n",
      "Layer (type)                 Output Shape              Param #   \n",
      "=================================================================\n",
      "dense_9 (Dense)              (None, 500)               12500     \n",
      "_________________________________________________________________\n",
      "dense_10 (Dense)             (None, 100)               50100     \n",
      "_________________________________________________________________\n",
      "dense_11 (Dense)             (None, 50)                5050      \n",
      "_________________________________________________________________\n",
      "dense_12 (Dense)             (None, 1)                 51        \n",
      "=================================================================\n",
      "Total params: 67,701\n",
      "Trainable params: 67,701\n",
      "Non-trainable params: 0\n",
      "_________________________________________________________________\n"
     ]
    }
   ],
   "source": [
    "model.summary()"
   ]
  },
  {
   "cell_type": "code",
   "execution_count": 61,
   "metadata": {},
   "outputs": [],
   "source": [
    "# Compile and fit the model\n",
    "model.compile(optimizer='adam', loss='mean_squared_error', metrics=['mean_squared_error'])             \n",
    "           "
   ]
  },
  {
   "cell_type": "code",
   "execution_count": 64,
   "metadata": {},
   "outputs": [
    {
     "name": "stdout",
     "output_type": "stream",
     "text": [
      "Train on 4000 samples\n",
      "Epoch 1/100\n",
      "4000/4000 - 0s - loss: 0.0602 - mean_squared_error: 0.0602\n",
      "Epoch 2/100\n",
      "4000/4000 - 0s - loss: 0.0607 - mean_squared_error: 0.0607\n",
      "Epoch 3/100\n",
      "4000/4000 - 0s - loss: 0.0659 - mean_squared_error: 0.0659\n",
      "Epoch 4/100\n",
      "4000/4000 - 0s - loss: 0.0635 - mean_squared_error: 0.0635\n",
      "Epoch 5/100\n",
      "4000/4000 - 0s - loss: 0.0588 - mean_squared_error: 0.0588\n",
      "Epoch 6/100\n",
      "4000/4000 - 0s - loss: 0.0585 - mean_squared_error: 0.0585\n",
      "Epoch 7/100\n",
      "4000/4000 - 0s - loss: 0.0574 - mean_squared_error: 0.0574\n",
      "Epoch 8/100\n",
      "4000/4000 - 0s - loss: 0.0550 - mean_squared_error: 0.0550\n",
      "Epoch 9/100\n",
      "4000/4000 - 0s - loss: 0.0581 - mean_squared_error: 0.0581\n",
      "Epoch 10/100\n",
      "4000/4000 - 0s - loss: 0.0570 - mean_squared_error: 0.0570\n",
      "Epoch 11/100\n",
      "4000/4000 - 0s - loss: 0.0579 - mean_squared_error: 0.0579\n",
      "Epoch 12/100\n",
      "4000/4000 - 0s - loss: 0.0522 - mean_squared_error: 0.0522\n",
      "Epoch 13/100\n",
      "4000/4000 - 0s - loss: 0.0526 - mean_squared_error: 0.0526\n",
      "Epoch 14/100\n",
      "4000/4000 - 0s - loss: 0.0521 - mean_squared_error: 0.0521\n",
      "Epoch 15/100\n",
      "4000/4000 - 0s - loss: 0.0559 - mean_squared_error: 0.0559\n",
      "Epoch 16/100\n",
      "4000/4000 - 0s - loss: 0.0507 - mean_squared_error: 0.0507\n",
      "Epoch 17/100\n",
      "4000/4000 - 0s - loss: 0.0502 - mean_squared_error: 0.0502\n",
      "Epoch 18/100\n",
      "4000/4000 - 0s - loss: 0.0531 - mean_squared_error: 0.0531\n",
      "Epoch 19/100\n",
      "4000/4000 - 0s - loss: 0.0483 - mean_squared_error: 0.0483\n",
      "Epoch 20/100\n",
      "4000/4000 - 0s - loss: 0.0517 - mean_squared_error: 0.0517\n",
      "Epoch 21/100\n",
      "4000/4000 - 0s - loss: 0.0509 - mean_squared_error: 0.0509\n",
      "Epoch 22/100\n",
      "4000/4000 - 0s - loss: 0.0512 - mean_squared_error: 0.0512\n",
      "Epoch 23/100\n",
      "4000/4000 - 0s - loss: 0.0454 - mean_squared_error: 0.0454\n",
      "Epoch 24/100\n",
      "4000/4000 - 0s - loss: 0.0471 - mean_squared_error: 0.0471\n",
      "Epoch 25/100\n",
      "4000/4000 - 0s - loss: 0.0471 - mean_squared_error: 0.0471\n",
      "Epoch 26/100\n",
      "4000/4000 - 0s - loss: 0.0468 - mean_squared_error: 0.0468\n",
      "Epoch 27/100\n",
      "4000/4000 - 0s - loss: 0.0453 - mean_squared_error: 0.0453\n",
      "Epoch 28/100\n",
      "4000/4000 - 0s - loss: 0.0470 - mean_squared_error: 0.0470\n",
      "Epoch 29/100\n",
      "4000/4000 - 0s - loss: 0.0443 - mean_squared_error: 0.0443\n",
      "Epoch 30/100\n",
      "4000/4000 - 0s - loss: 0.0451 - mean_squared_error: 0.0451\n",
      "Epoch 31/100\n",
      "4000/4000 - 0s - loss: 0.0442 - mean_squared_error: 0.0442\n",
      "Epoch 32/100\n",
      "4000/4000 - 0s - loss: 0.0421 - mean_squared_error: 0.0421\n",
      "Epoch 33/100\n",
      "4000/4000 - 0s - loss: 0.0435 - mean_squared_error: 0.0435\n",
      "Epoch 34/100\n",
      "4000/4000 - 0s - loss: 0.0412 - mean_squared_error: 0.0412\n",
      "Epoch 35/100\n",
      "4000/4000 - 0s - loss: 0.0414 - mean_squared_error: 0.0414\n",
      "Epoch 36/100\n",
      "4000/4000 - 0s - loss: 0.0421 - mean_squared_error: 0.0421\n",
      "Epoch 37/100\n",
      "4000/4000 - 0s - loss: 0.0433 - mean_squared_error: 0.0433\n",
      "Epoch 38/100\n",
      "4000/4000 - 0s - loss: 0.0380 - mean_squared_error: 0.0380\n",
      "Epoch 39/100\n",
      "4000/4000 - 0s - loss: 0.0417 - mean_squared_error: 0.0417\n",
      "Epoch 40/100\n",
      "4000/4000 - 0s - loss: 0.0395 - mean_squared_error: 0.0395\n",
      "Epoch 41/100\n",
      "4000/4000 - 0s - loss: 0.0406 - mean_squared_error: 0.0406\n",
      "Epoch 42/100\n",
      "4000/4000 - 0s - loss: 0.0387 - mean_squared_error: 0.0387\n",
      "Epoch 43/100\n",
      "4000/4000 - 0s - loss: 0.0389 - mean_squared_error: 0.0389\n",
      "Epoch 44/100\n",
      "4000/4000 - 0s - loss: 0.0443 - mean_squared_error: 0.0443\n",
      "Epoch 45/100\n",
      "4000/4000 - 0s - loss: 0.0398 - mean_squared_error: 0.0398\n",
      "Epoch 46/100\n",
      "4000/4000 - 0s - loss: 0.0397 - mean_squared_error: 0.0397\n",
      "Epoch 47/100\n",
      "4000/4000 - 0s - loss: 0.0418 - mean_squared_error: 0.0418\n",
      "Epoch 48/100\n",
      "4000/4000 - 0s - loss: 0.0416 - mean_squared_error: 0.0416\n",
      "Epoch 49/100\n",
      "4000/4000 - 0s - loss: 0.0343 - mean_squared_error: 0.0343\n",
      "Epoch 50/100\n",
      "4000/4000 - 0s - loss: 0.0350 - mean_squared_error: 0.0350\n",
      "Epoch 51/100\n",
      "4000/4000 - 0s - loss: 0.0349 - mean_squared_error: 0.0349\n",
      "Epoch 52/100\n",
      "4000/4000 - 0s - loss: 0.0366 - mean_squared_error: 0.0366\n",
      "Epoch 53/100\n",
      "4000/4000 - 0s - loss: 0.0345 - mean_squared_error: 0.0345\n",
      "Epoch 54/100\n",
      "4000/4000 - 0s - loss: 0.0336 - mean_squared_error: 0.0336\n",
      "Epoch 55/100\n",
      "4000/4000 - 0s - loss: 0.0332 - mean_squared_error: 0.0332\n",
      "Epoch 56/100\n",
      "4000/4000 - 0s - loss: 0.0351 - mean_squared_error: 0.0351\n",
      "Epoch 57/100\n",
      "4000/4000 - 0s - loss: 0.0373 - mean_squared_error: 0.0373\n",
      "Epoch 58/100\n",
      "4000/4000 - 0s - loss: 0.0327 - mean_squared_error: 0.0327\n",
      "Epoch 59/100\n",
      "4000/4000 - 0s - loss: 0.0336 - mean_squared_error: 0.0336\n",
      "Epoch 60/100\n",
      "4000/4000 - 0s - loss: 0.0324 - mean_squared_error: 0.0324\n",
      "Epoch 61/100\n",
      "4000/4000 - 0s - loss: 0.0338 - mean_squared_error: 0.0338\n",
      "Epoch 62/100\n",
      "4000/4000 - 0s - loss: 0.0335 - mean_squared_error: 0.0335\n",
      "Epoch 63/100\n",
      "4000/4000 - 0s - loss: 0.0344 - mean_squared_error: 0.0344\n",
      "Epoch 64/100\n",
      "4000/4000 - 0s - loss: 0.0348 - mean_squared_error: 0.0348\n",
      "Epoch 65/100\n",
      "4000/4000 - 0s - loss: 0.0415 - mean_squared_error: 0.0415\n",
      "Epoch 66/100\n",
      "4000/4000 - 0s - loss: 0.0339 - mean_squared_error: 0.0339\n",
      "Epoch 67/100\n",
      "4000/4000 - 0s - loss: 0.0300 - mean_squared_error: 0.0300\n",
      "Epoch 68/100\n",
      "4000/4000 - 0s - loss: 0.0319 - mean_squared_error: 0.0319\n",
      "Epoch 69/100\n",
      "4000/4000 - 0s - loss: 0.0288 - mean_squared_error: 0.0288\n",
      "Epoch 70/100\n",
      "4000/4000 - 0s - loss: 0.0282 - mean_squared_error: 0.0282\n",
      "Epoch 71/100\n",
      "4000/4000 - 0s - loss: 0.0295 - mean_squared_error: 0.0295\n",
      "Epoch 72/100\n",
      "4000/4000 - 0s - loss: 0.0315 - mean_squared_error: 0.0315\n",
      "Epoch 73/100\n",
      "4000/4000 - 0s - loss: 0.0303 - mean_squared_error: 0.0303\n",
      "Epoch 74/100\n",
      "4000/4000 - 0s - loss: 0.0296 - mean_squared_error: 0.0296\n",
      "Epoch 75/100\n",
      "4000/4000 - 0s - loss: 0.0304 - mean_squared_error: 0.0304\n",
      "Epoch 76/100\n",
      "4000/4000 - 0s - loss: 0.0301 - mean_squared_error: 0.0301\n",
      "Epoch 77/100\n",
      "4000/4000 - 0s - loss: 0.0290 - mean_squared_error: 0.0290\n",
      "Epoch 78/100\n",
      "4000/4000 - 0s - loss: 0.0285 - mean_squared_error: 0.0285\n",
      "Epoch 79/100\n",
      "4000/4000 - 0s - loss: 0.0310 - mean_squared_error: 0.0310\n",
      "Epoch 80/100\n",
      "4000/4000 - 0s - loss: 0.0284 - mean_squared_error: 0.0284\n",
      "Epoch 81/100\n",
      "4000/4000 - 0s - loss: 0.0252 - mean_squared_error: 0.0252\n",
      "Epoch 82/100\n",
      "4000/4000 - 0s - loss: 0.0260 - mean_squared_error: 0.0260\n",
      "Epoch 83/100\n",
      "4000/4000 - 0s - loss: 0.0251 - mean_squared_error: 0.0251\n",
      "Epoch 84/100\n",
      "4000/4000 - 0s - loss: 0.0295 - mean_squared_error: 0.0295\n",
      "Epoch 85/100\n",
      "4000/4000 - 0s - loss: 0.0311 - mean_squared_error: 0.0311\n",
      "Epoch 86/100\n",
      "4000/4000 - 0s - loss: 0.0297 - mean_squared_error: 0.0297\n",
      "Epoch 87/100\n",
      "4000/4000 - 0s - loss: 0.0310 - mean_squared_error: 0.0310\n",
      "Epoch 88/100\n",
      "4000/4000 - 0s - loss: 0.0333 - mean_squared_error: 0.0333\n",
      "Epoch 89/100\n",
      "4000/4000 - 0s - loss: 0.0363 - mean_squared_error: 0.0363\n",
      "Epoch 90/100\n",
      "4000/4000 - 0s - loss: 0.0269 - mean_squared_error: 0.0269\n",
      "Epoch 91/100\n",
      "4000/4000 - 0s - loss: 0.0267 - mean_squared_error: 0.0267\n",
      "Epoch 92/100\n",
      "4000/4000 - 0s - loss: 0.0341 - mean_squared_error: 0.0341\n",
      "Epoch 93/100\n",
      "4000/4000 - 0s - loss: 0.0258 - mean_squared_error: 0.0258\n",
      "Epoch 94/100\n",
      "4000/4000 - 0s - loss: 0.0264 - mean_squared_error: 0.0264\n",
      "Epoch 95/100\n",
      "4000/4000 - 0s - loss: 0.0240 - mean_squared_error: 0.0240\n",
      "Epoch 96/100\n",
      "4000/4000 - 0s - loss: 0.0241 - mean_squared_error: 0.0241\n",
      "Epoch 97/100\n",
      "4000/4000 - 0s - loss: 0.0246 - mean_squared_error: 0.0246\n",
      "Epoch 98/100\n",
      "4000/4000 - 0s - loss: 0.0238 - mean_squared_error: 0.0238\n",
      "Epoch 99/100\n",
      "4000/4000 - 0s - loss: 0.0220 - mean_squared_error: 0.0220\n",
      "Epoch 100/100\n",
      "4000/4000 - 0s - loss: 0.0254 - mean_squared_error: 0.0254\n"
     ]
    },
    {
     "data": {
      "text/plain": [
       "<tensorflow.python.keras.callbacks.History at 0x1a12b764d30>"
      ]
     },
     "execution_count": 64,
     "metadata": {},
     "output_type": "execute_result"
    }
   ],
   "source": [
    "# Fit the model to the training data\n",
    "model.fit(\n",
    "    X_train_scaled,\n",
    "    y_train_scaled,\n",
    "    epochs=100,\n",
    "    shuffle=True,\n",
    "    verbose=2\n",
    ")"
   ]
  },
  {
   "cell_type": "code",
   "execution_count": 87,
   "metadata": {},
   "outputs": [
    {
     "name": "stdout",
     "output_type": "stream",
     "text": [
      "0.14748630257944645\n",
      "0.49341150403947387\n"
     ]
    }
   ],
   "source": [
    "pred_train_scaled= model.predict(X_train_scaled)\n",
    "print(np.sqrt(mean_squared_error(y_train_scaled,pred_train_scaled)))\n",
    "\n",
    "pred= model.predict(X_test_scaled)\n",
    "print(np.sqrt(mean_squared_error(y_test_scaled, pred))) \n",
    "\n",
    "# 0.14748630257944645\n",
    "# 0.49341150403947387"
   ]
  },
  {
   "cell_type": "markdown",
   "metadata": {},
   "source": [
    "# Save Deep Learning Model"
   ]
  },
  {
   "cell_type": "code",
   "execution_count": 88,
   "metadata": {},
   "outputs": [
    {
     "name": "stdout",
     "output_type": "stream",
     "text": [
      "WARNING:tensorflow:From C:\\Users\\sumita\\anaconda3\\envs\\PythonAdv\\lib\\site-packages\\tensorflow_core\\python\\ops\\resource_variable_ops.py:1786: calling BaseResourceVariable.__init__ (from tensorflow.python.ops.resource_variable_ops) with constraint is deprecated and will be removed in a future version.\n",
      "Instructions for updating:\n",
      "If using Keras pass *_constraint arguments to layers.\n",
      "INFO:tensorflow:Assets written to: C:\\Users\\sumita\\Documents\\RutgersDS\\Project3\\saved_models\\assets\n"
     ]
    }
   ],
   "source": [
    "filepath=\"C:\\\\Users\\\\sumita\\\\Documents\\\\RutgersDS\\\\Project3\\\\saved_models\\\\\"\n",
    "model.save(filepath)"
   ]
  },
  {
   "cell_type": "raw",
   "metadata": {},
   "source": [
    "You can use model.save(filepath) to save the model into a single HDF5 file which will contain:\n",
    "\n",
    "the architecture of the model, allowing to re-create the model\n",
    "the weights of the model\n",
    "the training configuration (loss, optimizer)\n",
    "the state of the optimizer, allowing to resume training exactly where you left off.\n",
    "You can then use keras.models.load_model(filepath) to reinstantiate/reload your model."
   ]
  },
  {
   "cell_type": "code",
   "execution_count": 89,
   "metadata": {},
   "outputs": [
    {
     "data": {
      "text/plain": [
       "['XGBModel.sav']"
      ]
     },
     "execution_count": 89,
     "metadata": {},
     "output_type": "execute_result"
    }
   ],
   "source": [
    "# Save Xgboost model\n",
    "import joblib\n",
    "\n",
    "filename = 'XGBModel.sav'\n",
    "joblib.dump(XGBModel, filename)"
   ]
  },
  {
   "cell_type": "code",
   "execution_count": 90,
   "metadata": {},
   "outputs": [
    {
     "data": {
      "text/plain": [
       "['Linear_Regression_Model.sav']"
      ]
     },
     "execution_count": 90,
     "metadata": {},
     "output_type": "execute_result"
    }
   ],
   "source": [
    "filename = 'Linear_Regression_Model.sav'\n",
    "joblib.dump(lm_model, filename)"
   ]
  },
  {
   "cell_type": "code",
   "execution_count": 91,
   "metadata": {},
   "outputs": [
    {
     "data": {
      "text/plain": [
       "['lasso_Model.sav']"
      ]
     },
     "execution_count": 91,
     "metadata": {},
     "output_type": "execute_result"
    }
   ],
   "source": [
    "filename = 'lasso_Model.sav'\n",
    "joblib.dump(lasso, filename)"
   ]
  },
  {
   "cell_type": "code",
   "execution_count": 92,
   "metadata": {},
   "outputs": [
    {
     "data": {
      "text/plain": [
       "['ridge_Model.sav']"
      ]
     },
     "execution_count": 92,
     "metadata": {},
     "output_type": "execute_result"
    }
   ],
   "source": [
    "filename = 'ridge_Model.sav'\n",
    "joblib.dump(ridge, filename)"
   ]
  },
  {
   "cell_type": "code",
   "execution_count": 93,
   "metadata": {},
   "outputs": [
    {
     "data": {
      "text/plain": [
       "['elasticnet_Model.sav']"
      ]
     },
     "execution_count": 93,
     "metadata": {},
     "output_type": "execute_result"
    }
   ],
   "source": [
    "filename = 'elasticnet_Model.sav'\n",
    "joblib.dump(elasticnet, filename)\n"
   ]
  },
  {
   "cell_type": "raw",
   "metadata": {},
   "source": [
    "# save the model to disk\n",
    "filename = 'finalized_model.sav'\n",
    "joblib.dump(model, filename)\n",
    " \n",
    "# some time later...\n",
    " \n",
    "# load the model from disk\n",
    "loaded_model = joblib.load(filename)\n",
    "result = loaded_model.score(X_test, Y_test)\n",
    "print(result)"
   ]
  }
 ],
 "metadata": {
  "kernelspec": {
   "display_name": "Python [conda env:PythonAdv] *",
   "language": "python",
   "name": "conda-env-PythonAdv-py"
  },
  "language_info": {
   "codemirror_mode": {
    "name": "ipython",
    "version": 3
   },
   "file_extension": ".py",
   "mimetype": "text/x-python",
   "name": "python",
   "nbconvert_exporter": "python",
   "pygments_lexer": "ipython3",
   "version": "3.6.12"
  }
 },
 "nbformat": 4,
 "nbformat_minor": 4
}
